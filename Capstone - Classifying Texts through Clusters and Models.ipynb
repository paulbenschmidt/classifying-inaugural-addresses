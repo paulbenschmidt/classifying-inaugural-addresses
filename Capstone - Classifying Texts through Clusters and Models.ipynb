{
 "cells": [
  {
   "cell_type": "markdown",
   "metadata": {},
   "source": [
    "# Unsupervised Learning Capstone: *Text Classification*\n",
    "\n",
    "The outline for the notebook is as follows:\n",
    "1. Selection and Cleaning of 15 Texts\n",
    "2. Emphasis on Text as Word Choice per Sentence\n",
    "    1. Preparing Data\n",
    "    2. Splitting Texts into Train-Test Groups\n",
    "    2. Feature Creation and Engineering\n",
    "    3. Clustering\n",
    "    4. Classification Models\n",
    "3. Emphasis on Text as Paragraphs\n",
    "    1. Preparing Data\n",
    "    2. Splitting Texts into Train-Test Groups\n",
    "    2. Feature Creation and Engineering\n",
    "    3. Clustering\n",
    "    4. Classification Models\n",
    "4. Assessing and Tuning Highest Potential Approach\n",
    "5. Testing Tuned Approaches on Holdout\n",
    "6. Conclusion"
   ]
  },
  {
   "cell_type": "markdown",
   "metadata": {},
   "source": [
    "## Section 1: Selection and Cleaning of 10 Texts\n",
    "For this project, we will be analyzing and classifying the inaugural addresses - a speech given during president's inauguration for the purpose of informing the people of their intentions as a leader - of presidents of the United States of America. In order to avoid having too many classification categories and have similarly-sized amounts of data for each president, we have limited the text sources to the inaugural addresses of the 15 American presidents who were elected for more than one term and gave a second inaugural address (with the exception of Obama since the last address available is from his first term in 2009). These presidents, along with their years of address, are as follows: \n",
    "1. Washington (1789 and 1793)\n",
    "2. Jefferson (1801 and 1805)\n",
    "3. Madison (1809 and 1813) \n",
    "4. Monroe (1817 and 1821)\n",
    "5. Jackson (1829 and 1833)\n",
    "6. Lincoln (1861 and 1865)\n",
    "7. Grant (1869 and 1873)\n",
    "8. McKinley (1897 and 1901)\n",
    "9. Wilson (1913 and 1917)\n",
    "10. Roosevelt (1933 and 1937) *\n",
    "11. Eisenhower (1953 and 1957)\n",
    "12. Nixon (1969 and 1973)\n",
    "13. Reagan (1981 and 1985)\n",
    "14. Clinton (1993 and 1997)\n",
    "15. Bush Jr. (2001 and 2005).\n",
    "\n",
    "** For consistency, we will only be using the first two inaugural addresses from Roosevelt (therefore, excluding the years 1941 and 1945) in order to have two addresses per president. These first two addresses were chosen for two reasons: (1) they contained the greatest amount of text and, thus, the largest amount of information and (2) all other presidents gave consecutive addresses starting with their intial term.*"
   ]
  },
  {
   "cell_type": "code",
   "execution_count": 1,
   "metadata": {},
   "outputs": [],
   "source": [
    "import numpy as np\n",
    "import pandas as pd\n",
    "\n",
    "from nltk.corpus import inaugural, stopwords\n",
    "import re\n",
    "import spacy\n",
    "\n",
    "import matplotlib.pyplot as plt\n",
    "%matplotlib inline\n",
    "import seaborn as sns\n",
    "\n",
    "from collections import Counter\n",
    "import itertools\n",
    "\n",
    "from sklearn.model_selection import train_test_split\n",
    "\n",
    "from sklearn.preprocessing import normalize\n",
    "from sklearn.decomposition import PCA\n",
    "from sklearn.cluster import KMeans\n",
    "from sklearn.cluster import SpectralClustering\n",
    "\n",
    "from sklearn.linear_model import LogisticRegression\n",
    "from sklearn import neighbors\n",
    "from sklearn import ensemble\n",
    "from sklearn import svm\n",
    "\n",
    "from sklearn.pipeline import Pipeline\n",
    "from sklearn.decomposition import TruncatedSVD\n",
    "from sklearn.preprocessing import Normalizer\n",
    "from sklearn.feature_extraction.text import TfidfVectorizer\n",
    "\n",
    "from sklearn.model_selection import cross_val_score"
   ]
  },
  {
   "cell_type": "code",
   "execution_count": 2,
   "metadata": {
    "scrolled": true
   },
   "outputs": [
    {
     "name": "stdout",
     "output_type": "stream",
     "text": [
      "For this project, 30 addresses will be used.\n"
     ]
    }
   ],
   "source": [
    "# Selecting all consecutive addresses for select presidents\n",
    "speeches = ['1789-Washington.txt','1793-Washington.txt','1801-Jefferson.txt','1805-Jefferson.txt',\n",
    "            '1809-Madison.txt','1813-Madison.txt','1817-Monroe.txt','1821-Monroe.txt',\n",
    "            '1829-Jackson.txt','1833-Jackson.txt','1861-Lincoln.txt','1865-Lincoln.txt',\n",
    "            '1869-Grant.txt','1873-Grant.txt','1897-McKinley.txt','1901-McKinley.txt',\n",
    "            '1913-Wilson.txt','1917-Wilson.txt','1933-Roosevelt.txt','1937-Roosevelt.txt',\n",
    "            '1953-Eisenhower.txt','1957-Eisenhower.txt','1969-Nixon.txt','1973-Nixon.txt',\n",
    "            '1981-Reagan.txt','1985-Reagan.txt','1993-Clinton.txt','1997-Clinton.txt',\n",
    "            '2001-Bush.txt','2005-Bush.txt']\n",
    "\n",
    "# Creating a list of relevant, unique names to identify each address specifically\n",
    "speech_names = []\n",
    "for name in speeches:\n",
    "    speech_names.append(re.sub(\"[^a-zA-Z]\",'',name[5:-4]).lower() +'_'+ re.sub(\"\",'',name[:4]))\n",
    "\n",
    "# Loading all addresses within list 'speeches' and titling each according to list 'speech_names'\n",
    "address={}\n",
    "for speech_name, speech in zip(speech_names, speeches):\n",
    "    address[speech_name] = inaugural.raw(speech)\n",
    "\n",
    "print('For this project, {} addresses will be used.'.format(len(address)))"
   ]
  },
  {
   "cell_type": "code",
   "execution_count": 3,
   "metadata": {},
   "outputs": [
    {
     "data": {
      "text/html": [
       "<div>\n",
       "<style scoped>\n",
       "    .dataframe tbody tr th:only-of-type {\n",
       "        vertical-align: middle;\n",
       "    }\n",
       "\n",
       "    .dataframe tbody tr th {\n",
       "        vertical-align: top;\n",
       "    }\n",
       "\n",
       "    .dataframe thead th {\n",
       "        text-align: right;\n",
       "    }\n",
       "</style>\n",
       "<table border=\"1\" class=\"dataframe\">\n",
       "  <thead>\n",
       "    <tr style=\"text-align: right;\">\n",
       "      <th></th>\n",
       "      <th>address</th>\n",
       "      <th>target</th>\n",
       "    </tr>\n",
       "  </thead>\n",
       "  <tbody>\n",
       "    <tr>\n",
       "      <th>washington_1789</th>\n",
       "      <td>Fellow-Citizens of the Senate and of the House...</td>\n",
       "      <td>washington</td>\n",
       "    </tr>\n",
       "    <tr>\n",
       "      <th>washington_1793</th>\n",
       "      <td>Fellow citizens, I am again called upon by the...</td>\n",
       "      <td>washington</td>\n",
       "    </tr>\n",
       "    <tr>\n",
       "      <th>jefferson_1801</th>\n",
       "      <td>Friends and Fellow Citizens:\\n\\nCalled upon to...</td>\n",
       "      <td>jefferson</td>\n",
       "    </tr>\n",
       "    <tr>\n",
       "      <th>jefferson_1805</th>\n",
       "      <td>Proceeding, fellow citizens, to that qualifica...</td>\n",
       "      <td>jefferson</td>\n",
       "    </tr>\n",
       "    <tr>\n",
       "      <th>madison_1809</th>\n",
       "      <td>Unwilling to depart from examples of the most ...</td>\n",
       "      <td>madison</td>\n",
       "    </tr>\n",
       "  </tbody>\n",
       "</table>\n",
       "</div>"
      ],
      "text/plain": [
       "                                                           address      target\n",
       "washington_1789  Fellow-Citizens of the Senate and of the House...  washington\n",
       "washington_1793  Fellow citizens, I am again called upon by the...  washington\n",
       "jefferson_1801   Friends and Fellow Citizens:\\n\\nCalled upon to...   jefferson\n",
       "jefferson_1805   Proceeding, fellow citizens, to that qualifica...   jefferson\n",
       "madison_1809     Unwilling to depart from examples of the most ...     madison"
      ]
     },
     "execution_count": 3,
     "metadata": {},
     "output_type": "execute_result"
    }
   ],
   "source": [
    "# Loading dictionary into DataFrame for text-cleaning\n",
    "df = pd.DataFrame.from_dict(address, orient='index', columns=['address'])\n",
    "\n",
    "# Creating list and adding to DataFrame for target variable of the president's name\n",
    "president_names = [x[:-5] for x in df.index]\n",
    "df['target'] = president_names\n",
    "\n",
    "df.head()"
   ]
  },
  {
   "cell_type": "markdown",
   "metadata": {},
   "source": [
    "## Section 2: Emphasis on Text as Word Choice per Sentence\n",
    "### Subsection 2A: Preparing Data"
   ]
  },
  {
   "cell_type": "code",
   "execution_count": 4,
   "metadata": {},
   "outputs": [
    {
     "data": {
      "text/html": [
       "<div>\n",
       "<style scoped>\n",
       "    .dataframe tbody tr th:only-of-type {\n",
       "        vertical-align: middle;\n",
       "    }\n",
       "\n",
       "    .dataframe tbody tr th {\n",
       "        vertical-align: top;\n",
       "    }\n",
       "\n",
       "    .dataframe thead th {\n",
       "        text-align: right;\n",
       "    }\n",
       "</style>\n",
       "<table border=\"1\" class=\"dataframe\">\n",
       "  <thead>\n",
       "    <tr style=\"text-align: right;\">\n",
       "      <th></th>\n",
       "      <th>address</th>\n",
       "      <th>target</th>\n",
       "    </tr>\n",
       "  </thead>\n",
       "  <tbody>\n",
       "    <tr>\n",
       "      <th>washington_1789</th>\n",
       "      <td>Fellow-Citizens of the Senate and of the House...</td>\n",
       "      <td>washington</td>\n",
       "    </tr>\n",
       "    <tr>\n",
       "      <th>washington_1793</th>\n",
       "      <td>Fellow citizens, I am again called upon by the...</td>\n",
       "      <td>washington</td>\n",
       "    </tr>\n",
       "    <tr>\n",
       "      <th>jefferson_1801</th>\n",
       "      <td>Friends and Fellow Citizens: Called upon to un...</td>\n",
       "      <td>jefferson</td>\n",
       "    </tr>\n",
       "    <tr>\n",
       "      <th>jefferson_1805</th>\n",
       "      <td>Proceeding, fellow citizens, to that qualifica...</td>\n",
       "      <td>jefferson</td>\n",
       "    </tr>\n",
       "    <tr>\n",
       "      <th>madison_1809</th>\n",
       "      <td>Unwilling to depart from examples of the most ...</td>\n",
       "      <td>madison</td>\n",
       "    </tr>\n",
       "  </tbody>\n",
       "</table>\n",
       "</div>"
      ],
      "text/plain": [
       "                                                           address      target\n",
       "washington_1789  Fellow-Citizens of the Senate and of the House...  washington\n",
       "washington_1793  Fellow citizens, I am again called upon by the...  washington\n",
       "jefferson_1801   Friends and Fellow Citizens: Called upon to un...   jefferson\n",
       "jefferson_1805   Proceeding, fellow citizens, to that qualifica...   jefferson\n",
       "madison_1809     Unwilling to depart from examples of the most ...     madison"
      ]
     },
     "execution_count": 4,
     "metadata": {},
     "output_type": "execute_result"
    }
   ],
   "source": [
    "# Defining function for cleaning text\n",
    "def text_cleaner(text):\n",
    "    '''Function that cleans text by removing unnecessary characters.'''\n",
    "    text = re.sub(r'--',' ',text) # Removes double-dash which is incompatible with spaCy\n",
    "    text = re.sub(\"[\\[].*?[\\]]\", \"\", text) # Removes line, paragraph, tab breaks\n",
    "    text = ' '.join(text.split()) # Removes excess white space\n",
    "    return text\n",
    "\n",
    "# Creating list of cleaned addresses according to function 'text_cleaner'\n",
    "cleaned = [text_cleaner(address) for address in df.address]\n",
    "\n",
    "# Replacing old text data of addresses with cleaned text data\n",
    "df['address'] = cleaned\n",
    "df.head()"
   ]
  },
  {
   "cell_type": "code",
   "execution_count": 5,
   "metadata": {
    "scrolled": true
   },
   "outputs": [
    {
     "data": {
      "text/html": [
       "<div>\n",
       "<style scoped>\n",
       "    .dataframe tbody tr th:only-of-type {\n",
       "        vertical-align: middle;\n",
       "    }\n",
       "\n",
       "    .dataframe tbody tr th {\n",
       "        vertical-align: top;\n",
       "    }\n",
       "\n",
       "    .dataframe thead th {\n",
       "        text-align: right;\n",
       "    }\n",
       "</style>\n",
       "<table border=\"1\" class=\"dataframe\">\n",
       "  <thead>\n",
       "    <tr style=\"text-align: right;\">\n",
       "      <th></th>\n",
       "      <th>address</th>\n",
       "      <th>target</th>\n",
       "    </tr>\n",
       "  </thead>\n",
       "  <tbody>\n",
       "    <tr>\n",
       "      <th>washington_1789</th>\n",
       "      <td>(Fellow, -, Citizens, of, the, Senate, and, of...</td>\n",
       "      <td>washington</td>\n",
       "    </tr>\n",
       "    <tr>\n",
       "      <th>washington_1793</th>\n",
       "      <td>(Fellow, citizens, ,, I, am, again, called, up...</td>\n",
       "      <td>washington</td>\n",
       "    </tr>\n",
       "    <tr>\n",
       "      <th>jefferson_1801</th>\n",
       "      <td>(Friends, and, Fellow, Citizens, :, Called, up...</td>\n",
       "      <td>jefferson</td>\n",
       "    </tr>\n",
       "    <tr>\n",
       "      <th>jefferson_1805</th>\n",
       "      <td>(Proceeding, ,, fellow, citizens, ,, to, that,...</td>\n",
       "      <td>jefferson</td>\n",
       "    </tr>\n",
       "    <tr>\n",
       "      <th>madison_1809</th>\n",
       "      <td>(Unwilling, to, depart, from, examples, of, th...</td>\n",
       "      <td>madison</td>\n",
       "    </tr>\n",
       "  </tbody>\n",
       "</table>\n",
       "</div>"
      ],
      "text/plain": [
       "                                                           address      target\n",
       "washington_1789  (Fellow, -, Citizens, of, the, Senate, and, of...  washington\n",
       "washington_1793  (Fellow, citizens, ,, I, am, again, called, up...  washington\n",
       "jefferson_1801   (Friends, and, Fellow, Citizens, :, Called, up...   jefferson\n",
       "jefferson_1805   (Proceeding, ,, fellow, citizens, ,, to, that,...   jefferson\n",
       "madison_1809     (Unwilling, to, depart, from, examples, of, th...     madison"
      ]
     },
     "execution_count": 5,
     "metadata": {},
     "output_type": "execute_result"
    }
   ],
   "source": [
    "# Parse the cleaned addresses\n",
    "nlp = spacy.load('en')\n",
    "\n",
    "# Creating list for parsed addresses\n",
    "parsed = [nlp(address) for address in df.address]\n",
    "\n",
    "# Replacing cleaned text with parsed text\n",
    "df['address'] = parsed\n",
    "df.head()"
   ]
  },
  {
   "cell_type": "code",
   "execution_count": 6,
   "metadata": {},
   "outputs": [
    {
     "data": {
      "text/html": [
       "<div>\n",
       "<style scoped>\n",
       "    .dataframe tbody tr th:only-of-type {\n",
       "        vertical-align: middle;\n",
       "    }\n",
       "\n",
       "    .dataframe tbody tr th {\n",
       "        vertical-align: top;\n",
       "    }\n",
       "\n",
       "    .dataframe thead th {\n",
       "        text-align: right;\n",
       "    }\n",
       "</style>\n",
       "<table border=\"1\" class=\"dataframe\">\n",
       "  <thead>\n",
       "    <tr style=\"text-align: right;\">\n",
       "      <th></th>\n",
       "      <th>sentences</th>\n",
       "      <th>president</th>\n",
       "    </tr>\n",
       "  </thead>\n",
       "  <tbody>\n",
       "    <tr>\n",
       "      <th>2362</th>\n",
       "      <td>(It, rang, as, if, it, meant, something.¡¨)</td>\n",
       "      <td>bush</td>\n",
       "    </tr>\n",
       "    <tr>\n",
       "      <th>2363</th>\n",
       "      <td>(In, our, time, it, means, something, still, .)</td>\n",
       "      <td>bush</td>\n",
       "    </tr>\n",
       "    <tr>\n",
       "      <th>2364</th>\n",
       "      <td>(America, ,, in, this, young, century, ,, proc...</td>\n",
       "      <td>bush</td>\n",
       "    </tr>\n",
       "    <tr>\n",
       "      <th>2365</th>\n",
       "      <td>(Renewed, in, our, strength¡Xtested, ,, but, n...</td>\n",
       "      <td>bush</td>\n",
       "    </tr>\n",
       "    <tr>\n",
       "      <th>2366</th>\n",
       "      <td>(May, God, bless, you, ,, and, may, He, watch,...</td>\n",
       "      <td>bush</td>\n",
       "    </tr>\n",
       "  </tbody>\n",
       "</table>\n",
       "</div>"
      ],
      "text/plain": [
       "                                              sentences president\n",
       "2362        (It, rang, as, if, it, meant, something.¡¨)      bush\n",
       "2363    (In, our, time, it, means, something, still, .)      bush\n",
       "2364  (America, ,, in, this, young, century, ,, proc...      bush\n",
       "2365  (Renewed, in, our, strength¡Xtested, ,, but, n...      bush\n",
       "2366  (May, God, bless, you, ,, and, may, He, watch,...      bush"
      ]
     },
     "execution_count": 6,
     "metadata": {},
     "output_type": "execute_result"
    }
   ],
   "source": [
    "# Creating for loop create DataFrame of address sentences with respective target president from address paragraphs\n",
    "sentences = pd.DataFrame()\n",
    "for x in range(0, len(df.address)):\n",
    "    if x == 0:\n",
    "        sentences['sentences'] = [sent for sent in df.address[x].sents]\n",
    "        sentences['president'] = df.target[x]\n",
    "    else:\n",
    "        temporary = pd.DataFrame()\n",
    "        temporary['sentences'] = [sent for sent in df.address[x].sents]\n",
    "        temporary['president'] = df.target[x]\n",
    "        sentences = sentences.append(temporary)\n",
    "        sentences = sentences.reset_index(drop=True)\n",
    "\n",
    "sentences.tail()"
   ]
  },
  {
   "cell_type": "markdown",
   "metadata": {},
   "source": [
    "### Subsection 2B: Train-Test Split"
   ]
  },
  {
   "cell_type": "code",
   "execution_count": 7,
   "metadata": {},
   "outputs": [
    {
     "data": {
      "image/png": "[encoded data removed]",
      "text/plain": [
       "<Figure size 1080x360 with 1 Axes>"
      ]
     },
     "metadata": {
      "needs_background": "light"
     },
     "output_type": "display_data"
    },
    {
     "data": {
      "text/plain": [
       "reagan        265\n",
       "monroe        255\n",
       "mckinley      241\n",
       "eisenhower    216\n",
       "bush          212\n",
       "clinton       198\n",
       "roosevelt     185\n",
       "nixon         175\n",
       "lincoln       173\n",
       "wilson        131\n",
       "jefferson      89\n",
       "grant          85\n",
       "jackson        56\n",
       "madison        55\n",
       "washington     31\n",
       "Name: president, dtype: int64"
      ]
     },
     "execution_count": 7,
     "metadata": {},
     "output_type": "execute_result"
    }
   ],
   "source": [
    "# Previewing the sentence-to-president distribution\n",
    "plt.figure(figsize=[15,5])\n",
    "sns.countplot(x=sentences.president)\n",
    "plt.title(\"Number of Sentences Used for President's First Two Inaugural Addresses\")\n",
    "plt.show()\n",
    "sentences.president.value_counts()"
   ]
  },
  {
   "cell_type": "markdown",
   "metadata": {},
   "source": [
    "For our initial testing, we want to ensure that our model is exposed to the full gambit of selected presidents. Therefore, we will stratify our train-test split across sentence-to-president distribution. \n",
    "\n",
    "The order from left-to-right above is in chronological presidency, and it is interesting to note the general trend of sentence increase in presidents. We will probably run into problems with model accuracy with the unequal distributions for presidents like Washington since the amount of data of his that is exposed to our model is minimal compared to, say, Reagan."
   ]
  },
  {
   "cell_type": "code",
   "execution_count": 8,
   "metadata": {},
   "outputs": [],
   "source": [
    "X = sentences['sentences']\n",
    "y = sentences['president']\n",
    "\n",
    "X_train, X_test, y_train, y_test = train_test_split(X, \n",
    "                                                    y,\n",
    "                                                    stratify=y, # to ensure all presidents are in train and test\n",
    "                                                    test_size=0.25, \n",
    "                                                   random_state=0)"
   ]
  },
  {
   "cell_type": "code",
   "execution_count": 9,
   "metadata": {},
   "outputs": [
    {
     "data": {
      "text/plain": [
       "reagan        66\n",
       "monroe        64\n",
       "mckinley      60\n",
       "eisenhower    54\n",
       "bush          53\n",
       "clinton       50\n",
       "roosevelt     46\n",
       "nixon         44\n",
       "lincoln       43\n",
       "wilson        33\n",
       "jefferson     22\n",
       "grant         21\n",
       "madison       14\n",
       "jackson       14\n",
       "washington     8\n",
       "Name: president, dtype: int64"
      ]
     },
     "execution_count": 9,
     "metadata": {},
     "output_type": "execute_result"
    }
   ],
   "source": [
    "y_test.value_counts()"
   ]
  },
  {
   "cell_type": "markdown",
   "metadata": {},
   "source": [
    "### Subsection 2C: Feature Creation and Engineering"
   ]
  },
  {
   "cell_type": "code",
   "execution_count": 10,
   "metadata": {},
   "outputs": [],
   "source": [
    "# Defining functions for Bag of Words and BoW Features for later modeling\n",
    "def bag_of_words(text):\n",
    "    '''Utility function to create a list of the 2000 most common words'''\n",
    "    # Filter out punctuation and stop words.\n",
    "    allwords = [token.lemma_ for token in text if not token.is_punct and not token.is_stop]\n",
    "    # Return the most common words.\n",
    "    return [item[0] for item in Counter(allwords).most_common(50)]\n",
    "    \n",
    "def bow_features(sentences, common_words):  \n",
    "    '''Creates DataFrame where feature is each common word and feature value is word count in sentence'''\n",
    "    # Scaffold the data frame and initialize counts to zero.\n",
    "    df = pd.DataFrame(columns=common_words)\n",
    "    df['text_sentence'] = sentences['sentences']\n",
    "    df['text_source'] = sentences['president']\n",
    "    df.loc[:, common_words] = 0\n",
    "    \n",
    "    # Process each row, counting the occurrence of words in each sentence.\n",
    "    for i, sentence in enumerate(df['text_sentence']):\n",
    "        words = [token.lemma_     # Convert the sentence to lemmas\n",
    "                 for token in sentence\n",
    "                 if (             # Filter out punctuation, stop words, and uncommon words\n",
    "                     not token.is_punct\n",
    "                     and not token.is_stop\n",
    "                     and token.lemma_ in common_words\n",
    "                 )]\n",
    "        for word in words:        # Populate the row with word counts\n",
    "            df.loc[i, word] += 1\n",
    "        if i % 100 == 0:           # Counter to make sure the kernel didn't hang\n",
    "            print(\"Processing row {}\".format(i))\n",
    "    return df\n",
    "\n",
    "words_list = []\n",
    "for x in range(0, len(df.address)):\n",
    "    words_list.append(bag_of_words(df['address'][x]))\n",
    "\n",
    "common_words = set(list(itertools.chain.from_iterable(words_list)))"
   ]
  },
  {
   "cell_type": "code",
   "execution_count": 11,
   "metadata": {
    "scrolled": false
   },
   "outputs": [
    {
     "name": "stdout",
     "output_type": "stream",
     "text": [
      "Processing row 0\n",
      "Processing row 100\n",
      "Processing row 200\n",
      "Processing row 300\n",
      "Processing row 400\n",
      "Processing row 500\n",
      "Processing row 600\n",
      "Processing row 700\n",
      "Processing row 800\n",
      "Processing row 900\n",
      "Processing row 1000\n",
      "Processing row 1100\n",
      "Processing row 1200\n",
      "Processing row 1300\n",
      "Processing row 1400\n",
      "Processing row 1500\n",
      "Processing row 1600\n",
      "Processing row 1700\n"
     ]
    }
   ],
   "source": [
    "# Concatenating training data for BoW function input\n",
    "train_sentences = pd.concat([X_train, y_train], axis=1).reset_index(drop=True)\n",
    "\n",
    "# Creating feature word counts \n",
    "word_counts = bow_features(train_sentences, common_words)"
   ]
  },
  {
   "cell_type": "markdown",
   "metadata": {},
   "source": [
    "### Subsection 2D: Clustering"
   ]
  },
  {
   "cell_type": "code",
   "execution_count": 12,
   "metadata": {},
   "outputs": [
    {
     "data": {
      "image/png": "[encoded data removed]",
      "text/plain": [
       "<Figure size 432x288 with 1 Axes>"
      ]
     },
     "metadata": {
      "needs_background": "light"
     },
     "output_type": "display_data"
    },
    {
     "name": "stdout",
     "output_type": "stream",
     "text": [
      "Comparing k-means clusters against the data:\n",
      "col_0         0   1   2   3   4   5   6   7   8   9   10  11  12  13  14\n",
      "text_source                                                             \n",
      "bush          92   0   0   3   3   0   3   0   8  10   0   3  17  14   6\n",
      "clinton       86   0   2   0   2   0   1   0  12   7   0   4  17   5  12\n",
      "eisenhower    84   0   6   2   0   0  10   0   6   4   1   5   4  18  22\n",
      "grant         37   0   2   3   2   3   2   1   0   1   0   1   0   6   6\n",
      "jackson       14   0   7   3   0   6   0   1   1   4   0   1   0   3   2\n",
      "jefferson     44   0   5   0   1   3   3   0   0   8   0   1   0   2   0\n",
      "lincoln       75   0  11   7   4   7   1  12   1   1   0   1   0   0  10\n",
      "madison       25   0   0   5   0   2   0   0   1   1   0   1   0   4   2\n",
      "mckinley      93   0   9  17   6  18   1   0   3   1   0   5   0   5  23\n",
      "monroe        82   0   7  28   7  10   3   2   5  13   0   9   0  10  15\n",
      "nixon         68   0   4   1   9   1   8   0   7   2   1   2  11   8   9\n",
      "reagan       132   1   0   0   4   7   8   1  10   6   0   0   9   5  16\n",
      "roosevelt     94   0   6   4   3   1   3   0   6   2   0   3   0   6  11\n",
      "washington    13   0   3   2   0   0   0   0   0   3   0   0   0   0   2\n",
      "wilson        61   0   4   1   3   1  10   0   2   3   1   1   1   5   5\n"
     ]
    }
   ],
   "source": [
    "# Clustering with KMeans\n",
    "y = word_counts['text_source']\n",
    "X = np.array(word_counts.drop(['text_sentence','text_source'], 1))\n",
    "\n",
    "# Normalize the data.\n",
    "X_norm = normalize(X)\n",
    "\n",
    "# Reduce it to two components.\n",
    "X_pca = PCA(2).fit_transform(X_norm)\n",
    "\n",
    "# Calculate predicted values.\n",
    "y_pred = KMeans(n_clusters=15, random_state=0).fit_predict(X_norm)\n",
    "\n",
    "# Plot the solution.\n",
    "plt.scatter(X_pca[:, 0], X_pca[:, 1], c=y_pred)\n",
    "plt.show()\n",
    "\n",
    "# Check the solution against the data.\n",
    "print('Comparing k-means clusters against the data:')\n",
    "print(pd.crosstab(y, y_pred))"
   ]
  },
  {
   "cell_type": "code",
   "execution_count": 13,
   "metadata": {},
   "outputs": [
    {
     "data": {
      "image/png": "[encoded data removed]",
      "text/plain": [
       "<Figure size 432x288 with 1 Axes>"
      ]
     },
     "metadata": {
      "needs_background": "light"
     },
     "output_type": "display_data"
    },
    {
     "name": "stdout",
     "output_type": "stream",
     "text": [
      "Comparing the assigned categories to the ones in the data:\n",
      "col_0       0   1   2   3   4   5   6   7   8   9    10  11  12  13  14\n",
      "president                                                              \n",
      "bush         1   3  12  10   8   8   0   1   8   0   80   7   2  13   6\n",
      "clinton      3   0  11   8   7  20   0   1  16   2   55   2   7   6  10\n",
      "eisenhower   3   2   4   4   0   7   5   1  13   9   75   6  14  12   7\n",
      "grant        4   2   0   2   4   2   1   0   0   3   36   3   2   4   1\n",
      "jackson      8   2   0   4   3   0   1   0   1   7   12   1   0   2   1\n",
      "jefferson    2   0   0   8   4   1   2   0   2   5   39   2   0   2   0\n",
      "lincoln     13   8   0   2   2   5   5   0   1   9   75   2   7   0   1\n",
      "madison      1   3   0   2   0   1   9   0   2   0   17   1   2   2   1\n",
      "mckinley    19  15   0   3   3   4   6   0   3  14   83  10  14   4   3\n",
      "monroe      14  28   1  14   4   4  10   0   0   6   72  23   7   4   4\n",
      "nixon        3   1   9   2   8  16   6   1  17   5   46   4   4   4   5\n",
      "reagan       9   0   6   7  12   5   0   5  10   1  117   6   9   4   8\n",
      "roosevelt    3   3   0   1   7   8   0   1   4   7   84   6   5   3   7\n",
      "washington   0   1   0   3   1   0   0   0   0   3   14   1   0   0   0\n",
      "wilson       1   1   1   1   2  14   2   0   2   3   56   7   3   3   2\n"
     ]
    }
   ],
   "source": [
    "# Clustering with Spectral Clustering\n",
    "sc = SpectralClustering(n_clusters=15)\n",
    "sc.fit(X_norm)\n",
    "\n",
    "# Predicted clusters.\n",
    "predict=sc.fit_predict(X_norm)\n",
    "\n",
    "# Graph results.\n",
    "plt.scatter(X_pca[:, 0], X_pca[:, 1], c=predict)\n",
    "plt.show()\n",
    "\n",
    "print('Comparing the assigned categories to the ones in the data:')\n",
    "print(pd.crosstab(y_train,predict))"
   ]
  },
  {
   "cell_type": "markdown",
   "metadata": {},
   "source": [
    "### Subsection 2E: Classification Models"
   ]
  },
  {
   "cell_type": "code",
   "execution_count": 14,
   "metadata": {},
   "outputs": [],
   "source": [
    "# Creating train-test split of original training data\n",
    "Y = word_counts['text_source']\n",
    "X = np.array(word_counts.drop(['text_sentence','text_source'], 1))\n",
    "\n",
    "X_train, X_test, y_train, y_test = train_test_split(X, \n",
    "                                                    Y,\n",
    "                                                    test_size=0.4,\n",
    "                                                    random_state=0)"
   ]
  },
  {
   "cell_type": "code",
   "execution_count": 15,
   "metadata": {},
   "outputs": [
    {
     "name": "stderr",
     "output_type": "stream",
     "text": [
      "C:\\ProgramData\\Anaconda3\\lib\\site-packages\\sklearn\\linear_model\\logistic.py:433: FutureWarning: Default solver will be changed to 'lbfgs' in 0.22. Specify a solver to silence this warning.\n",
      "  FutureWarning)\n",
      "C:\\ProgramData\\Anaconda3\\lib\\site-packages\\sklearn\\linear_model\\logistic.py:460: FutureWarning: Default multi_class will be changed to 'auto' in 0.22. Specify the multi_class option to silence this warning.\n",
      "  \"this warning.\", FutureWarning)\n"
     ]
    },
    {
     "name": "stdout",
     "output_type": "stream",
     "text": [
      "Training set score: 0.8150234741784037\n",
      "\n",
      "Test set score: 0.35352112676056335\n"
     ]
    }
   ],
   "source": [
    "# Assessing potential of Logistic Regression\n",
    "logistic = LogisticRegression()\n",
    "logistic.fit(X_train, y_train)\n",
    "print('Training set score:', logistic.score(X_train, y_train))\n",
    "print('\\nTest set score:', logistic.score(X_test, y_test))"
   ]
  },
  {
   "cell_type": "code",
   "execution_count": 16,
   "metadata": {},
   "outputs": [
    {
     "name": "stderr",
     "output_type": "stream",
     "text": [
      "C:\\ProgramData\\Anaconda3\\lib\\site-packages\\sklearn\\linear_model\\logistic.py:433: FutureWarning: Default solver will be changed to 'lbfgs' in 0.22. Specify a solver to silence this warning.\n",
      "  FutureWarning)\n",
      "C:\\ProgramData\\Anaconda3\\lib\\site-packages\\sklearn\\linear_model\\logistic.py:460: FutureWarning: Default multi_class will be changed to 'auto' in 0.22. Specify the multi_class option to silence this warning.\n",
      "  \"this warning.\", FutureWarning)\n",
      "C:\\ProgramData\\Anaconda3\\lib\\site-packages\\sklearn\\linear_model\\logistic.py:433: FutureWarning: Default solver will be changed to 'lbfgs' in 0.22. Specify a solver to silence this warning.\n",
      "  FutureWarning)\n",
      "C:\\ProgramData\\Anaconda3\\lib\\site-packages\\sklearn\\linear_model\\logistic.py:460: FutureWarning: Default multi_class will be changed to 'auto' in 0.22. Specify the multi_class option to silence this warning.\n",
      "  \"this warning.\", FutureWarning)\n",
      "C:\\ProgramData\\Anaconda3\\lib\\site-packages\\sklearn\\linear_model\\logistic.py:433: FutureWarning: Default solver will be changed to 'lbfgs' in 0.22. Specify a solver to silence this warning.\n",
      "  FutureWarning)\n",
      "C:\\ProgramData\\Anaconda3\\lib\\site-packages\\sklearn\\linear_model\\logistic.py:460: FutureWarning: Default multi_class will be changed to 'auto' in 0.22. Specify the multi_class option to silence this warning.\n",
      "  \"this warning.\", FutureWarning)\n",
      "C:\\ProgramData\\Anaconda3\\lib\\site-packages\\sklearn\\linear_model\\logistic.py:433: FutureWarning: Default solver will be changed to 'lbfgs' in 0.22. Specify a solver to silence this warning.\n",
      "  FutureWarning)\n",
      "C:\\ProgramData\\Anaconda3\\lib\\site-packages\\sklearn\\linear_model\\logistic.py:460: FutureWarning: Default multi_class will be changed to 'auto' in 0.22. Specify the multi_class option to silence this warning.\n",
      "  \"this warning.\", FutureWarning)\n",
      "C:\\ProgramData\\Anaconda3\\lib\\site-packages\\sklearn\\linear_model\\logistic.py:433: FutureWarning: Default solver will be changed to 'lbfgs' in 0.22. Specify a solver to silence this warning.\n",
      "  FutureWarning)\n",
      "C:\\ProgramData\\Anaconda3\\lib\\site-packages\\sklearn\\linear_model\\logistic.py:460: FutureWarning: Default multi_class will be changed to 'auto' in 0.22. Specify the multi_class option to silence this warning.\n",
      "  \"this warning.\", FutureWarning)\n"
     ]
    },
    {
     "data": {
      "text/plain": [
       "array([0.31491713, 0.3547486 , 0.36619718, 0.32102273, 0.37643678])"
      ]
     },
     "execution_count": 16,
     "metadata": {},
     "output_type": "execute_result"
    }
   ],
   "source": [
    "cross_val_score(logistic, X, Y, cv=5)"
   ]
  },
  {
   "cell_type": "code",
   "execution_count": 17,
   "metadata": {},
   "outputs": [
    {
     "name": "stdout",
     "output_type": "stream",
     "text": [
      "Training set score: 0.9502347417840376\n",
      "\n",
      "Test set score: 0.11690140845070422\n"
     ]
    }
   ],
   "source": [
    "# Assessing potential of K-Nearest Neighbors Classifier\n",
    "knn = neighbors.KNeighborsClassifier(weights='distance', n_neighbors=15)\n",
    "knn.fit(normalize(X_train), y_train)\n",
    "print('Training set score:', knn.score(normalize(X_train), y_train))\n",
    "print('\\nTest set score:', knn.score(normalize(X_test), y_test))"
   ]
  },
  {
   "cell_type": "code",
   "execution_count": 18,
   "metadata": {},
   "outputs": [
    {
     "name": "stderr",
     "output_type": "stream",
     "text": [
      "C:\\ProgramData\\Anaconda3\\lib\\site-packages\\sklearn\\ensemble\\forest.py:246: FutureWarning: The default value of n_estimators will change from 10 in version 0.20 to 100 in 0.22.\n",
      "  \"10 in version 0.20 to 100 in 0.22.\", FutureWarning)\n"
     ]
    },
    {
     "name": "stdout",
     "output_type": "stream",
     "text": [
      "Training set score: 0.9380281690140845\n",
      "\n",
      "Test set score: 0.24084507042253522\n"
     ]
    }
   ],
   "source": [
    "# Assessing potential of Random Forest Classifier\n",
    "rfc = ensemble.RandomForestClassifier(random_state=0)\n",
    "rfc.fit(X_train, y_train)\n",
    "print('Training set score:', rfc.score(X_train, y_train))\n",
    "print('\\nTest set score:', rfc.score(X_test, y_test))"
   ]
  },
  {
   "cell_type": "code",
   "execution_count": 19,
   "metadata": {},
   "outputs": [
    {
     "name": "stdout",
     "output_type": "stream",
     "text": [
      "Training set score: 0.8845070422535212\n",
      "\n",
      "Test set score: 0.2591549295774648\n"
     ]
    }
   ],
   "source": [
    "# Assessing potential of Support Vector Machine Classifier\n",
    "svc = svm.SVC(kernel='linear')\n",
    "svc.fit(X_train, y_train)\n",
    "print('Training set score:', svc.score(X_train, y_train))\n",
    "print('\\nTest set score:', svc.score(X_test, y_test))"
   ]
  },
  {
   "cell_type": "markdown",
   "metadata": {},
   "source": [
    "### Subsection 2F: Classification Models with Limited Presidents"
   ]
  },
  {
   "cell_type": "code",
   "execution_count": 20,
   "metadata": {},
   "outputs": [],
   "source": [
    "limited = ['lincoln','grant','mckinley','wilson','roosevelt','eisenhower','nixon','reagan','clinton','Bush']\n",
    "limited_presidents = word_counts[word_counts.text_source.isin(limited)]\n",
    "\n",
    "y = limited_presidents['text_source']\n",
    "X = limited_presidents.drop(['text_sentence','text_source'], 1)\n",
    "\n",
    "X_train, X_test, y_train, y_test = train_test_split(X, \n",
    "                                                    y,\n",
    "                                                    test_size=0.4,\n",
    "                                                    random_state=0)"
   ]
  },
  {
   "cell_type": "code",
   "execution_count": 21,
   "metadata": {},
   "outputs": [
    {
     "name": "stdout",
     "output_type": "stream",
     "text": [
      "Training set score: 0.8029294274300932\n",
      "\n",
      "Test set score: 0.3992015968063872\n"
     ]
    }
   ],
   "source": [
    "# Assessing potential of Logistic Regression\n",
    "logistic = LogisticRegression(solver='liblinear', multi_class='auto')\n",
    "logistic.fit(X_train, y_train)\n",
    "print('Training set score:', logistic.score(X_train, y_train))\n",
    "print('\\nTest set score:', logistic.score(X_test, y_test))"
   ]
  },
  {
   "cell_type": "code",
   "execution_count": 22,
   "metadata": {},
   "outputs": [
    {
     "data": {
      "text/plain": [
       "array([0.32677165, 0.40079365, 0.43824701, 0.35742972, 0.44715447])"
      ]
     },
     "execution_count": 22,
     "metadata": {},
     "output_type": "execute_result"
    }
   ],
   "source": [
    "cross_val_score(logistic, X, y, cv=5)"
   ]
  },
  {
   "cell_type": "code",
   "execution_count": 23,
   "metadata": {},
   "outputs": [
    {
     "name": "stdout",
     "output_type": "stream",
     "text": [
      "Training set score: 0.9454061251664447\n",
      "\n",
      "Test set score: 0.1936127744510978\n"
     ]
    }
   ],
   "source": [
    "# Assessing potential of K-Nearest Neighbors Classifier\n",
    "knn = neighbors.KNeighborsClassifier(weights='distance', n_neighbors=15)\n",
    "knn.fit(normalize(X_train), y_train)\n",
    "print('Training set score:', knn.score(normalize(X_train), y_train))\n",
    "print('\\nTest set score:', knn.score(normalize(X_test), y_test))"
   ]
  },
  {
   "cell_type": "code",
   "execution_count": 24,
   "metadata": {},
   "outputs": [
    {
     "name": "stderr",
     "output_type": "stream",
     "text": [
      "C:\\ProgramData\\Anaconda3\\lib\\site-packages\\sklearn\\ensemble\\forest.py:246: FutureWarning: The default value of n_estimators will change from 10 in version 0.20 to 100 in 0.22.\n",
      "  \"10 in version 0.20 to 100 in 0.22.\", FutureWarning)\n"
     ]
    },
    {
     "name": "stdout",
     "output_type": "stream",
     "text": [
      "Training set score: 0.9280958721704394\n",
      "\n",
      "Test set score: 0.29141716566866266\n"
     ]
    }
   ],
   "source": [
    "# Assessing potential of Random Forest Classifier\n",
    "rfc = ensemble.RandomForestClassifier(random_state=0)\n",
    "rfc.fit(X_train, y_train)\n",
    "print('Training set score:', rfc.score(X_train, y_train))\n",
    "print('\\nTest set score:', rfc.score(X_test, y_test))"
   ]
  },
  {
   "cell_type": "code",
   "execution_count": 25,
   "metadata": {},
   "outputs": [
    {
     "name": "stdout",
     "output_type": "stream",
     "text": [
      "Training set score: 0.8695073235685752\n",
      "\n",
      "Test set score: 0.35528942115768464\n"
     ]
    }
   ],
   "source": [
    "# Assessing potential of Support Vector Machine Classifier\n",
    "svc = svm.SVC(kernel='linear')\n",
    "svc.fit(X_train, y_train)\n",
    "print('Training set score:', svc.score(X_train, y_train))\n",
    "print('\\nTest set score:', svc.score(X_test, y_test))"
   ]
  },
  {
   "cell_type": "markdown",
   "metadata": {},
   "source": [
    "## Section 3: Emphasis on Text as Paragraphs\n",
    "### Subsection 3A: Preparing Data"
   ]
  },
  {
   "cell_type": "code",
   "execution_count": 26,
   "metadata": {},
   "outputs": [
    {
     "name": "stdout",
     "output_type": "stream",
     "text": [
      "We will continue using the 30 addresses from 15 presidents consisting of 715 total paragraphs.\n"
     ]
    },
    {
     "data": {
      "text/html": [
       "<div>\n",
       "<style scoped>\n",
       "    .dataframe tbody tr th:only-of-type {\n",
       "        vertical-align: middle;\n",
       "    }\n",
       "\n",
       "    .dataframe tbody tr th {\n",
       "        vertical-align: top;\n",
       "    }\n",
       "\n",
       "    .dataframe thead th {\n",
       "        text-align: right;\n",
       "    }\n",
       "</style>\n",
       "<table border=\"1\" class=\"dataframe\">\n",
       "  <thead>\n",
       "    <tr style=\"text-align: right;\">\n",
       "      <th></th>\n",
       "      <th>paragraphs</th>\n",
       "      <th>president</th>\n",
       "    </tr>\n",
       "  </thead>\n",
       "  <tbody>\n",
       "    <tr>\n",
       "      <th>0</th>\n",
       "      <td>[[Fellow, -, Citizens, of, the, Senate, and, o...</td>\n",
       "      <td>washington</td>\n",
       "    </tr>\n",
       "    <tr>\n",
       "      <th>1</th>\n",
       "      <td>[[Among, the, vicissitudes, incident, to, life...</td>\n",
       "      <td>washington</td>\n",
       "    </tr>\n",
       "    <tr>\n",
       "      <th>2</th>\n",
       "      <td>[[Such, being, the, impressions, under, which,...</td>\n",
       "      <td>washington</td>\n",
       "    </tr>\n",
       "    <tr>\n",
       "      <th>3</th>\n",
       "      <td>[[By, the, article, establishing, the, executi...</td>\n",
       "      <td>washington</td>\n",
       "    </tr>\n",
       "    <tr>\n",
       "      <th>4</th>\n",
       "      <td>[[Besides, the, ordinary, objects, submitted, ...</td>\n",
       "      <td>washington</td>\n",
       "    </tr>\n",
       "  </tbody>\n",
       "</table>\n",
       "</div>"
      ],
      "text/plain": [
       "                                          paragraphs   president\n",
       "0  [[Fellow, -, Citizens, of, the, Senate, and, o...  washington\n",
       "1  [[Among, the, vicissitudes, incident, to, life...  washington\n",
       "2  [[Such, being, the, impressions, under, which,...  washington\n",
       "3  [[By, the, article, establishing, the, executi...  washington\n",
       "4  [[Besides, the, ordinary, objects, submitted, ...  washington"
      ]
     },
     "execution_count": 26,
     "metadata": {},
     "output_type": "execute_result"
    }
   ],
   "source": [
    "# Creating a list of of presidents to concatenate with paragraphs\n",
    "pres_names = []\n",
    "for name in speeches:\n",
    "    pres_names.append(re.sub(\"[^a-zA-Z]\",'',name[5:-4]).lower())\n",
    "\n",
    "# Loading all addresses in paragraph form within list 'speeches' and titling each according to appropriate president\n",
    "address_paragraphs=[]\n",
    "for president, speech in zip(pres_names, speeches):\n",
    "    for paragraph in inaugural.paras(speech):\n",
    "        paragraph_assigned = [paragraph, president]\n",
    "        address_paragraphs.append(paragraph_assigned)\n",
    "\n",
    "# Loading into DataFrame for easy manipulation\n",
    "df_paragraphs = pd.DataFrame(address_paragraphs, columns=['paragraphs','president'])\n",
    "\n",
    "print('We will continue using the {} addresses from {} presidents consisting of {} total paragraphs.'.format(\n",
    "    len(speeches), \n",
    "    df_paragraphs.president.nunique(),\n",
    "    len(df_paragraphs)))\n",
    "df_paragraphs.head()"
   ]
  },
  {
   "cell_type": "code",
   "execution_count": 27,
   "metadata": {},
   "outputs": [
    {
     "data": {
      "text/html": [
       "<div>\n",
       "<style scoped>\n",
       "    .dataframe tbody tr th:only-of-type {\n",
       "        vertical-align: middle;\n",
       "    }\n",
       "\n",
       "    .dataframe tbody tr th {\n",
       "        vertical-align: top;\n",
       "    }\n",
       "\n",
       "    .dataframe thead th {\n",
       "        text-align: right;\n",
       "    }\n",
       "</style>\n",
       "<table border=\"1\" class=\"dataframe\">\n",
       "  <thead>\n",
       "    <tr style=\"text-align: right;\">\n",
       "      <th></th>\n",
       "      <th>paragraphs</th>\n",
       "      <th>president</th>\n",
       "    </tr>\n",
       "  </thead>\n",
       "  <tbody>\n",
       "    <tr>\n",
       "      <th>0</th>\n",
       "      <td>Fellow - Citizens of the Senate and of the Hou...</td>\n",
       "      <td>washington</td>\n",
       "    </tr>\n",
       "    <tr>\n",
       "      <th>1</th>\n",
       "      <td>Among the vicissitudes incident to life no eve...</td>\n",
       "      <td>washington</td>\n",
       "    </tr>\n",
       "    <tr>\n",
       "      <th>2</th>\n",
       "      <td>Such being the impressions under which I have ...</td>\n",
       "      <td>washington</td>\n",
       "    </tr>\n",
       "    <tr>\n",
       "      <th>3</th>\n",
       "      <td>By the article establishing the executive depa...</td>\n",
       "      <td>washington</td>\n",
       "    </tr>\n",
       "    <tr>\n",
       "      <th>4</th>\n",
       "      <td>Besides the ordinary objects submitted to your...</td>\n",
       "      <td>washington</td>\n",
       "    </tr>\n",
       "  </tbody>\n",
       "</table>\n",
       "</div>"
      ],
      "text/plain": [
       "                                          paragraphs   president\n",
       "0  Fellow - Citizens of the Senate and of the Hou...  washington\n",
       "1  Among the vicissitudes incident to life no eve...  washington\n",
       "2  Such being the impressions under which I have ...  washington\n",
       "3  By the article establishing the executive depa...  washington\n",
       "4  Besides the ordinary objects submitted to your...  washington"
      ]
     },
     "execution_count": 27,
     "metadata": {},
     "output_type": "execute_result"
    }
   ],
   "source": [
    "# Cleaning our paragraph data\n",
    "def paragraph_split(raw_corpus, split_corpus):\n",
    "    \"\"\"Splits and cleans the paragraph corpus into a list of separate paragraphs.\"\"\"\n",
    "    for paragraph in raw_corpus:\n",
    "        para=paragraph[0]\n",
    "        para=[re.sub(r'--','',word) for word in para]\n",
    "        split_corpus.append(' '.join(para))\n",
    "address_paras = []\n",
    "paragraph_split(df_paragraphs.paragraphs, address_paras)\n",
    "\n",
    "# Replacing raw paragraph data with cleaned data\n",
    "df_paragraphs['paragraphs'] = address_paras\n",
    "df_paragraphs.head()"
   ]
  },
  {
   "cell_type": "markdown",
   "metadata": {},
   "source": [
    "### Subsection 3B: Train-Test Split"
   ]
  },
  {
   "cell_type": "code",
   "execution_count": 28,
   "metadata": {},
   "outputs": [
    {
     "data": {
      "image/png": "[encoded data removed]",
      "text/plain": [
       "<Figure size 1080x360 with 1 Axes>"
      ]
     },
     "metadata": {
      "needs_background": "light"
     },
     "output_type": "display_data"
    },
    {
     "data": {
      "text/plain": [
       "nixon         128\n",
       "eisenhower     92\n",
       "reagan         81\n",
       "roosevelt      63\n",
       "bush           50\n",
       "clinton        50\n",
       "monroe         48\n",
       "lincoln        43\n",
       "grant          32\n",
       "mckinley       30\n",
       "wilson         28\n",
       "jefferson      22\n",
       "jackson        21\n",
       "madison        18\n",
       "washington      9\n",
       "Name: president, dtype: int64"
      ]
     },
     "execution_count": 28,
     "metadata": {},
     "output_type": "execute_result"
    }
   ],
   "source": [
    "# Previewing the paragraph-to-president distribution\n",
    "plt.figure(figsize=[15,5])\n",
    "sns.countplot(x=df_paragraphs.president)\n",
    "plt.title(\"Number of Paragraphs Used for President's First Two Inaugural Addresses\")\n",
    "plt.show()\n",
    "df_paragraphs.president.value_counts()"
   ]
  },
  {
   "cell_type": "markdown",
   "metadata": {},
   "source": [
    "As before, we want to ensure that our model is exposed to the full gambit of selected presidents. Therefore, we will stratify our train-test split across paragraph-to-president distribution. \n",
    "\n",
    "Similarly, we see an overall paragraph-usage increase with the latter presidents, but the distribution doesn't appear quite as stark as the sentence distribution."
   ]
  },
  {
   "cell_type": "code",
   "execution_count": 29,
   "metadata": {},
   "outputs": [],
   "source": [
    "X = df_paragraphs['paragraphs']\n",
    "y = df_paragraphs['president']\n",
    "\n",
    "X_training, X_holdout, y_training, y_holdout = train_test_split(X, \n",
    "                                                    y,\n",
    "                                                    stratify=y, # to ensure all presidents are in train and test\n",
    "                                                    test_size=0.25, \n",
    "                                                    random_state=0)"
   ]
  },
  {
   "cell_type": "code",
   "execution_count": 30,
   "metadata": {},
   "outputs": [
    {
     "data": {
      "text/plain": [
       "reagan        80\n",
       "mckinley      72\n",
       "clinton       67\n",
       "eisenhower    59\n",
       "roosevelt     54\n",
       "lincoln       54\n",
       "nixon         52\n",
       "wilson        39\n",
       "grant         24\n",
       "Name: text_source, dtype: int64"
      ]
     },
     "execution_count": 30,
     "metadata": {},
     "output_type": "execute_result"
    }
   ],
   "source": [
    "y_test.value_counts()"
   ]
  },
  {
   "cell_type": "markdown",
   "metadata": {},
   "source": [
    "### Subsection 3C: Feature Creation and Engineering"
   ]
  },
  {
   "cell_type": "code",
   "execution_count": 31,
   "metadata": {},
   "outputs": [],
   "source": [
    "vectorizer = TfidfVectorizer(max_df=0.90, # drop words in more than half the paragraphs\n",
    "                             min_df=3, # only use words that appear at least twice\n",
    "                             stop_words='english', \n",
    "                             lowercase=True, #convert everything to lower case\n",
    "                             use_idf=True,#we definitely want to use inverse document frequencies in our weighting\n",
    "                             norm=u'l2', #Correction factor that treat long & short paragraphs equally\n",
    "                             smooth_idf=True #Adds 1 to all document frequencies. Prevents divide-by-zero errors\n",
    "                            )\n",
    "feature_reduction = TruncatedSVD(500)\n",
    "classifier = LogisticRegression()"
   ]
  },
  {
   "cell_type": "markdown",
   "metadata": {},
   "source": [
    "### Subsection 3D: Clustering"
   ]
  },
  {
   "cell_type": "code",
   "execution_count": 32,
   "metadata": {},
   "outputs": [
    {
     "data": {
      "image/png": "[encoded data removed]",
      "text/plain": [
       "<Figure size 432x288 with 1 Axes>"
      ]
     },
     "metadata": {
      "needs_background": "light"
     },
     "output_type": "display_data"
    },
    {
     "name": "stdout",
     "output_type": "stream",
     "text": [
      "Comparing k-means clusters against the data:\n",
      "col_0       0   1   2   3   4   5   6   7   8   9   10  11  12  13  14\n",
      "president                                                             \n",
      "bush         2   4  16   3   0   3   2   3   3   1   3   0   8   2   0\n",
      "clinton      3   9   9   1   1   4   1   3   4   0   1   0   6   7   1\n",
      "eisenhower   3   6  36   8  11   6   0  10   1   1   6   4   0   0   0\n",
      "grant        1   1  12   0   0   1   2   2   1   4   3   0   0   1   4\n",
      "jackson      0   0   5   0   1   1   6   0   3   1   2   0   0   0   2\n",
      "jefferson    0   1   7   0   0   0   1   0   9   1   1   0   0   0   2\n",
      "lincoln      0   0  18   0   2   0   1   3   1   6   0   0   0   0  12\n",
      "madison      0   1   7   0   0   1   0   0   1   7   0   0   0   0   1\n",
      "mckinley     0   1   9   0   1   1   5   0   3   3   5   1   0   1   0\n",
      "monroe       1   0  16   0   1   0   5   0   5  12   3   0   0   0   5\n",
      "nixon        9   9  36   7  12   6   8   9   2   2   6   5   5  12   0\n",
      "reagan       3   4  33   0   4   9   8   8   5   0   4   0   1   2   0\n",
      "roosevelt    3   4  32   2   0   1   5   2   0   1   7   1   1   4   0\n",
      "washington   0   0   3   0   0   0   1   0   2   0   1   0   0   0   2\n",
      "wilson       2   1  12   1   2   0   2   0   2   1   5   0   0   0   0\n"
     ]
    }
   ],
   "source": [
    "X_features = vectorizer.fit_transform(X)\n",
    "\n",
    "# Normalize the data.\n",
    "X_norm = normalize(X_features)\n",
    "\n",
    "# Reduce it to two components.\n",
    "X_svd = TruncatedSVD(2).fit_transform(X_norm)\n",
    "\n",
    "# Calculate predicted values.\n",
    "y_pred = KMeans(n_clusters=15, random_state=0).fit_predict(X_norm)\n",
    "\n",
    "# Plot the solution.\n",
    "plt.scatter(X_svd[:, 0], X_svd[:, 1], c=y_pred)\n",
    "plt.show()\n",
    "\n",
    "# Check the solution against the data.\n",
    "print('Comparing k-means clusters against the data:')\n",
    "print(pd.crosstab(y, y_pred))"
   ]
  },
  {
   "cell_type": "code",
   "execution_count": 33,
   "metadata": {},
   "outputs": [
    {
     "data": {
      "image/png": "[encoded data removed]",
      "text/plain": [
       "<Figure size 432x288 with 1 Axes>"
      ]
     },
     "metadata": {
      "needs_background": "light"
     },
     "output_type": "display_data"
    },
    {
     "name": "stdout",
     "output_type": "stream",
     "text": [
      "Comparing the assigned categories to the ones in the data:\n",
      "col_0       0   1   2   3   4   5   6   7   8   9   10  11  12  13  14\n",
      "president                                                             \n",
      "bush        26   0   0   0   8   1   2   2   2   0   3   1   0   1   4\n",
      "clinton     13   1   2   4   5   0   1   0   6   0   3   8   0   1   6\n",
      "eisenhower  46  13   3   1   0   1   3   2   0   0   4   2   1   0  16\n",
      "grant       20   0   0   1   0   0   4   1   1   0   0   0   4   0   1\n",
      "jackson     11   1   0   0   0   0   2   3   0   0   1   0   3   0   0\n",
      "jefferson   13   0   0   5   0   0   0   2   0   0   0   0   1   0   1\n",
      "lincoln     29   2   0   0   0   0   0   1   0   0   0   0   9   0   2\n",
      "madison     13   0   0   0   0   0   0   0   0   0   1   0   3   0   1\n",
      "mckinley    14   1   0   0   0   0   6   3   0   0   0   0   5   0   1\n",
      "monroe      25   1   0   1   0   0   7   6   0   0   0   0   8   0   0\n",
      "nixon       50  13   0   0   7   2   7   8  11   0   4   8   1   0  17\n",
      "reagan      40   3   0   1   1   2   4   9   1   1   8   1   0   2   8\n",
      "roosevelt   38   1   1   0   0   0   5   6   3   1   1   1   1   0   5\n",
      "washington   5   0   0   1   0   0   0   1   0   0   0   0   2   0   0\n",
      "wilson      17   2   1   0   0   0   6   0   0   0   0   0   1   0   1\n"
     ]
    }
   ],
   "source": [
    "# Clustering with Spectral Clustering\n",
    "sc = SpectralClustering(n_clusters=15)\n",
    "sc.fit(X_norm)\n",
    "\n",
    "# Predicted clusters.\n",
    "predict=sc.fit_predict(X_norm)\n",
    "\n",
    "# Graph results.\n",
    "plt.scatter(X_svd[:, 0], X_svd[:, 1], c=predict)\n",
    "plt.show()\n",
    "\n",
    "print('Comparing the assigned categories to the ones in the data:')\n",
    "print(pd.crosstab(y,predict))"
   ]
  },
  {
   "cell_type": "markdown",
   "metadata": {},
   "source": [
    "### Subsection 3E: Classification Models"
   ]
  },
  {
   "cell_type": "code",
   "execution_count": 34,
   "metadata": {},
   "outputs": [],
   "source": [
    "X_train, X_test, y_train, y_test = train_test_split(X_training, \n",
    "                                                    y_training,\n",
    "                                                    stratify=y_training, # to ensure all presidents are in train and test\n",
    "                                                    test_size=0.25, \n",
    "                                                   random_state=0)"
   ]
  },
  {
   "cell_type": "code",
   "execution_count": 35,
   "metadata": {},
   "outputs": [
    {
     "name": "stderr",
     "output_type": "stream",
     "text": [
      "C:\\ProgramData\\Anaconda3\\lib\\site-packages\\sklearn\\linear_model\\logistic.py:433: FutureWarning: Default solver will be changed to 'lbfgs' in 0.22. Specify a solver to silence this warning.\n",
      "  FutureWarning)\n",
      "C:\\ProgramData\\Anaconda3\\lib\\site-packages\\sklearn\\linear_model\\logistic.py:460: FutureWarning: Default multi_class will be changed to 'auto' in 0.22. Specify the multi_class option to silence this warning.\n",
      "  \"this warning.\", FutureWarning)\n"
     ]
    },
    {
     "name": "stdout",
     "output_type": "stream",
     "text": [
      "Accuracy of predicted:  0.27611940298507465\n"
     ]
    }
   ],
   "source": [
    "# Setting up our pipeline with Logistic for train-test testing\n",
    "vectorizer = TfidfVectorizer(max_df=0.5, # drop words in more than half the paragraphs\n",
    "                             min_df=3, # only use words that appear at least three times\n",
    "                             stop_words='english', \n",
    "                             lowercase=True, #convert everything to lower case\n",
    "                             use_idf=True,#we definitely want to use inverse document frequencies in our weighting\n",
    "                             norm=u'l2', #Correction factor that treat long & short paragraphs equally\n",
    "                             smooth_idf=True #Adds 1 to all document frequencies. Prevents divide-by-zero errors\n",
    "                            )\n",
    "feature_reduction = TruncatedSVD(350)\n",
    "classifier = LogisticRegression()\n",
    "\n",
    "text_clf = Pipeline([('vect', vectorizer),\n",
    "                     ('svd', feature_reduction),\n",
    "                     ('clf', classifier), ])\n",
    "\n",
    "text_clf.fit(X_train, y_train)\n",
    "predicted = text_clf.predict(X_test)\n",
    "print(\"Accuracy of predicted: \", np.mean(predicted == y_test))"
   ]
  },
  {
   "cell_type": "code",
   "execution_count": 36,
   "metadata": {},
   "outputs": [
    {
     "name": "stderr",
     "output_type": "stream",
     "text": [
      "C:\\ProgramData\\Anaconda3\\lib\\site-packages\\sklearn\\linear_model\\logistic.py:433: FutureWarning: Default solver will be changed to 'lbfgs' in 0.22. Specify a solver to silence this warning.\n",
      "  FutureWarning)\n",
      "C:\\ProgramData\\Anaconda3\\lib\\site-packages\\sklearn\\linear_model\\logistic.py:460: FutureWarning: Default multi_class will be changed to 'auto' in 0.22. Specify the multi_class option to silence this warning.\n",
      "  \"this warning.\", FutureWarning)\n"
     ]
    },
    {
     "name": "stdout",
     "output_type": "stream",
     "text": [
      "Accuracy of predicted:  0.27611940298507465\n"
     ]
    }
   ],
   "source": [
    "# Setting up our pipeline with Logistic for train-test testing\n",
    "classifier = LogisticRegression()\n",
    "\n",
    "text_clf = Pipeline([('vect', vectorizer),\n",
    "                     ('svd', feature_reduction),\n",
    "                     ('clf', classifier), ])\n",
    "\n",
    "text_clf.fit(X_train, y_train)\n",
    "predicted = text_clf.predict(X_test)\n",
    "print(\"Accuracy of predicted: \", np.mean(predicted == y_test))"
   ]
  },
  {
   "cell_type": "code",
   "execution_count": 37,
   "metadata": {},
   "outputs": [
    {
     "name": "stdout",
     "output_type": "stream",
     "text": [
      "Accuracy of predicted:  0.208955223880597\n"
     ]
    }
   ],
   "source": [
    "# Setting up our pipeline with KNN for train-test testing\n",
    "classifier = neighbors.KNeighborsClassifier(weights='distance', n_neighbors=15)\n",
    "\n",
    "text_clf = Pipeline([('vect', vectorizer),\n",
    "                     ('svd', feature_reduction),\n",
    "                     ('clf', classifier), ])\n",
    "\n",
    "text_clf.fit(X_train, y_train)\n",
    "predicted = text_clf.predict(X_test)\n",
    "print(\"Accuracy of predicted: \", np.mean(predicted == y_test))"
   ]
  },
  {
   "cell_type": "code",
   "execution_count": 38,
   "metadata": {},
   "outputs": [
    {
     "name": "stderr",
     "output_type": "stream",
     "text": [
      "C:\\ProgramData\\Anaconda3\\lib\\site-packages\\sklearn\\ensemble\\forest.py:246: FutureWarning: The default value of n_estimators will change from 10 in version 0.20 to 100 in 0.22.\n",
      "  \"10 in version 0.20 to 100 in 0.22.\", FutureWarning)\n"
     ]
    },
    {
     "name": "stdout",
     "output_type": "stream",
     "text": [
      "Accuracy of predicted:  0.1417910447761194\n"
     ]
    }
   ],
   "source": [
    "# Setting up our pipeline with Random Forest for train-test testing\n",
    "classifier = ensemble.RandomForestClassifier(random_state=0)\n",
    "\n",
    "text_clf = Pipeline([('vect', vectorizer),\n",
    "                     ('svd', feature_reduction),\n",
    "                     ('clf', classifier), ])\n",
    "\n",
    "text_clf.fit(X_train, y_train)\n",
    "predicted = text_clf.predict(X_test)\n",
    "print(\"Accuracy of predicted: \", np.mean(predicted == y_test))"
   ]
  },
  {
   "cell_type": "code",
   "execution_count": 39,
   "metadata": {},
   "outputs": [
    {
     "name": "stdout",
     "output_type": "stream",
     "text": [
      "Accuracy of predicted:  0.3208955223880597\n"
     ]
    }
   ],
   "source": [
    "# Setting up our pipeline with SVC for train-test testing\n",
    "classifier = svm.SVC(kernel='linear')\n",
    "\n",
    "text_clf = Pipeline([('vect', vectorizer),\n",
    "                     ('svd', feature_reduction),\n",
    "                     ('clf', classifier), ])\n",
    "\n",
    "text_clf.fit(X_train, y_train)\n",
    "predicted = text_clf.predict(X_test)\n",
    "print(\"Accuracy of predicted: \", np.mean(predicted == y_test))"
   ]
  },
  {
   "cell_type": "markdown",
   "metadata": {},
   "source": [
    "Although all of the models performed with lower scores, there seems to be higher potential for the Support Vector Machine classifier when dealing with text through TF-IDF. Moving forward we will assess the two methods with highest potential and tune their parameters to see if we can increase their accuracy."
   ]
  },
  {
   "cell_type": "markdown",
   "metadata": {},
   "source": [
    "## Section 4: Assessing and Tuning Highest Potential Approaches\n",
    "### Subsection 4A: BoW Model\n",
    "With differences of scores as large as 50% between the training and test sets, there was clear overfitting or a large degree of homogenous features. If it is the former, applying PCA should help; if the latter, it may require more feature generation."
   ]
  },
  {
   "cell_type": "code",
   "execution_count": 40,
   "metadata": {
    "scrolled": true
   },
   "outputs": [
    {
     "name": "stdout",
     "output_type": "stream",
     "text": [
      "The highest score on the test set was 0.4171656686626746 with 290 PCA components.\n"
     ]
    }
   ],
   "source": [
    "y = limited_presidents['text_source']\n",
    "X = limited_presidents.drop(['text_sentence','text_source'], 1)\n",
    "\n",
    "base = 0\n",
    "for component in range(5,550,5):\n",
    "    pca = PCA(n_components=component)\n",
    "    X_pca = pca.fit_transform(X)  \n",
    "\n",
    "    X_train, X_test, y_train, y_test = train_test_split(X_pca, y, test_size=0.4, random_state=0)\n",
    "\n",
    "    logistic = LogisticRegression(solver='liblinear', multi_class='auto')\n",
    "    logistic.fit(X_train, y_train)\n",
    "    \n",
    "    if logistic.score(X_test, y_test) > base:\n",
    "        base = logistic.score(X_test, y_test)\n",
    "        components = component\n",
    "\n",
    "print(\"The highest score on the test set was {} with {} PCA components.\".format(base,components))\n",
    "\n",
    "# Testing\n",
    "pca = PCA(n_components=base)\n",
    "X_pca = pca.fit_transform(X)  \n",
    "\n",
    "X_train, X_test, y_train, y_test = train_test_split(X_pca, \n",
    "                                                    y,\n",
    "                                                    test_size=0.4,\n",
    "                                                    random_state=0)"
   ]
  },
  {
   "cell_type": "code",
   "execution_count": 41,
   "metadata": {},
   "outputs": [
    {
     "name": "stderr",
     "output_type": "stream",
     "text": [
      "C:\\ProgramData\\Anaconda3\\lib\\site-packages\\sklearn\\linear_model\\logistic.py:460: FutureWarning: Default multi_class will be changed to 'auto' in 0.22. Specify the multi_class option to silence this warning.\n",
      "  \"this warning.\", FutureWarning)\n"
     ]
    },
    {
     "name": "stdout",
     "output_type": "stream",
     "text": [
      "Training set score: 0.41544607190412786\n",
      "\n",
      "Test set score: 0.36726546906187624\n"
     ]
    }
   ],
   "source": [
    "# Assessing potential of Logistic Regression\n",
    "logistic = LogisticRegression(solver='lbfgs')\n",
    "logistic.fit(X_train, y_train)\n",
    "print('Training set score:', logistic.score(X_train, y_train))\n",
    "print('\\nTest set score:', logistic.score(X_test, y_test))"
   ]
  },
  {
   "cell_type": "markdown",
   "metadata": {},
   "source": [
    "### Subsection 4B: TF-IDF Model\n",
    "As before there is a large difference between training and test sets; this could be the result of overfitting or hoomogenous features. If it is the former, applying PCA should help; if the latter, it may require more feature generation."
   ]
  },
  {
   "cell_type": "code",
   "execution_count": 42,
   "metadata": {},
   "outputs": [],
   "source": [
    "limited = ['lincoln','grant','mckinley','wilson','roosevelt','eisenhower','nixon','reagan','clinton','Bush']\n",
    "limited_presidents_tfidf = df_paragraphs[df_paragraphs.president.isin(limited)]\n",
    "\n",
    "X = limited_presidents_tfidf['paragraphs']\n",
    "y = limited_presidents_tfidf['president']\n",
    "\n",
    "X_training, X_holdout, y_training, y_holdout = train_test_split(X, \n",
    "                                                    y,\n",
    "                                                    stratify=y, # to ensure all presidents are in train and test\n",
    "                                                    test_size=0.25, \n",
    "                                                    random_state=0)\n",
    "\n",
    "X_train, X_test, y_train, y_test = train_test_split(X_training, \n",
    "                                                    y_training,\n",
    "                                                    stratify=y_training, # to ensure all presidents are in train and test\n",
    "                                                    test_size=0.25, \n",
    "                                                   random_state=0)"
   ]
  },
  {
   "cell_type": "code",
   "execution_count": 43,
   "metadata": {},
   "outputs": [
    {
     "name": "stdout",
     "output_type": "stream",
     "text": [
      "The highest score on the test set was 0.4368932038834951 with 115 SVD components.\n"
     ]
    }
   ],
   "source": [
    "vectorizer = TfidfVectorizer(max_df=0.5, # drop words in more than half the paragraphs\n",
    "                             min_df=3, # only use words that appear at least three times\n",
    "                             stop_words='english', \n",
    "                             lowercase=True, #convert everything to lower case\n",
    "                             use_idf=True,#we definitely want to use inverse document frequencies in our weighting\n",
    "                             norm=u'l2', #Correction factor that treat long & short paragraphs equally\n",
    "                             smooth_idf=True #Adds 1 to all document frequencies. Prevents divide-by-zero errors\n",
    "                            )\n",
    "feature_reduction = TruncatedSVD(200)\n",
    "classifier = svm.SVC(kernel='linear', gamma='auto')\n",
    "\n",
    "base = 0\n",
    "for component in range(5,230,5):\n",
    "    feature_reduction = TruncatedSVD(component)\n",
    "    text_clf = Pipeline([('vect', vectorizer),\n",
    "                         ('svd', feature_reduction),\n",
    "                         ('clf', classifier), ])\n",
    "    text_clf.fit(X_train, y_train)\n",
    "    predicted = text_clf.predict(X_test)\n",
    "    if np.mean(predicted == y_test) > base:\n",
    "        base = np.mean(predicted == y_test)\n",
    "        components = component\n",
    "\n",
    "print(\"The highest score on the test set was {} with {} SVD components.\".format(base,components))"
   ]
  },
  {
   "cell_type": "code",
   "execution_count": 44,
   "metadata": {},
   "outputs": [
    {
     "name": "stdout",
     "output_type": "stream",
     "text": [
      "Accuracy of predicted:  0.4368932038834951\n"
     ]
    }
   ],
   "source": [
    "feature_reduction = TruncatedSVD(135)\n",
    "\n",
    "text_clf = Pipeline([('vect', vectorizer),\n",
    "                     ('svd', feature_reduction),\n",
    "                     ('clf', classifier), ])\n",
    "\n",
    "text_clf.fit(X_train, y_train)\n",
    "predicted = text_clf.predict(X_test)\n",
    "print(\"Accuracy of predicted: \", np.mean(predicted == y_test))"
   ]
  },
  {
   "cell_type": "markdown",
   "metadata": {},
   "source": [
    "## Section 5: Testing Tuned Models on Holdout\n",
    "### Subsection 5A: Bag-of-Words Model"
   ]
  },
  {
   "cell_type": "code",
   "execution_count": 45,
   "metadata": {},
   "outputs": [],
   "source": [
    "sentences\n",
    "\n",
    "X = sentences['sentences']\n",
    "y = sentences['president']\n",
    "\n",
    "X_training, X_holdout, y_training, y_holdout = train_test_split(X,\n",
    "                                                                y,\n",
    "                                                                stratify=y, # to ensure all presidents are in train and test\n",
    "                                                                test_size=0.25, \n",
    "                                                                random_state=0)"
   ]
  },
  {
   "cell_type": "code",
   "execution_count": 46,
   "metadata": {},
   "outputs": [],
   "source": [
    "y = limited_presidents['text_source']\n",
    "X = limited_presidents.drop(['text_source'], 1)\n",
    "\n",
    "X_training, X_holdout, y_training, y_holdout = train_test_split(X, \n",
    "                                                    y,\n",
    "                                                    stratify=y, # to ensure all presidents are in train and test\n",
    "                                                    test_size=0.25, \n",
    "                                                   random_state=0)"
   ]
  },
  {
   "cell_type": "code",
   "execution_count": 47,
   "metadata": {},
   "outputs": [],
   "source": [
    "limited = ['lincoln','grant','mckinley','wilson','roosevelt','eisenhower','nixon','reagan','clinton','Bush']\n",
    "limited_presidents = word_counts[word_counts.text_source.isin(limited)]\n",
    "\n",
    "y = limited_presidents['text_source']\n",
    "X = limited_presidents.drop(['text_sentence','text_source'], 1)\n",
    "\n",
    "X_train, X_test, y_train, y_test = train_test_split(X, \n",
    "                                                    y,\n",
    "                                                    test_size=0.4,\n",
    "                                                    random_state=0)"
   ]
  },
  {
   "cell_type": "code",
   "execution_count": 51,
   "metadata": {},
   "outputs": [],
   "source": [
    "# Concatenating training data for BoW function input\n",
    "training_sentences = pd.concat([X_training, y_training], axis=1).reset_index(drop=True)\n",
    "holdout_sentences = pd.concat([X_holdout, y_holdout], axis=1).reset_index(drop=True)"
   ]
  },
  {
   "cell_type": "code",
   "execution_count": 52,
   "metadata": {},
   "outputs": [],
   "source": [
    "# Creating train-test split of original training data\n",
    "y_training = limited_presidents['text_source']\n",
    "X_training = np.array(limited_presidents.drop(['text_sentence','text_source'], 1))\n",
    "\n",
    "y_holdout = holdout_sentences['text_source']\n",
    "X_holdout = np.array(holdout_sentences.drop(['text_sentence','text_source'], 1))"
   ]
  },
  {
   "cell_type": "code",
   "execution_count": 53,
   "metadata": {},
   "outputs": [
    {
     "name": "stderr",
     "output_type": "stream",
     "text": [
      "C:\\ProgramData\\Anaconda3\\lib\\site-packages\\sklearn\\linear_model\\logistic.py:433: FutureWarning: Default solver will be changed to 'lbfgs' in 0.22. Specify a solver to silence this warning.\n",
      "  FutureWarning)\n",
      "C:\\ProgramData\\Anaconda3\\lib\\site-packages\\sklearn\\linear_model\\logistic.py:460: FutureWarning: Default multi_class will be changed to 'auto' in 0.22. Specify the multi_class option to silence this warning.\n",
      "  \"this warning.\", FutureWarning)\n"
     ]
    },
    {
     "name": "stdout",
     "output_type": "stream",
     "text": [
      "Training set score: 0.7675718849840255\n",
      "Test set score: 0.7955271565495208\n"
     ]
    }
   ],
   "source": [
    "# Assessing potential of Logistic Regression\n",
    "logistic = LogisticRegression()\n",
    "logistic.fit(X_training, y_training)\n",
    "print('Training set score:', logistic.score(X_training, y_training))\n",
    "print('Test set score:', logistic.score(X_holdout, y_holdout))"
   ]
  },
  {
   "cell_type": "markdown",
   "metadata": {},
   "source": [
    "### Subsection 5B: TF-IDF Model"
   ]
  },
  {
   "cell_type": "code",
   "execution_count": 54,
   "metadata": {},
   "outputs": [],
   "source": [
    "X = df_paragraphs['paragraphs']\n",
    "y = df_paragraphs['president']\n",
    "\n",
    "X_training, X_holdout, y_training, y_holdout = train_test_split(X, \n",
    "                                                    y,\n",
    "                                                    stratify=y, # to ensure all presidents are in train and test\n",
    "                                                    test_size=0.25, \n",
    "                                                    random_state=0)"
   ]
  },
  {
   "cell_type": "code",
   "execution_count": 55,
   "metadata": {},
   "outputs": [
    {
     "name": "stdout",
     "output_type": "stream",
     "text": [
      "Training set score: 0.5317164179104478\n",
      "Test set score:  0.2737430167597765\n"
     ]
    }
   ],
   "source": [
    "# Setting up our pipeline with Logistic for train-test testing\n",
    "vectorizer = TfidfVectorizer(max_df=0.5, # drop words in more than half the paragraphs\n",
    "                             min_df=3, # only use words that appear at least three times\n",
    "                             stop_words='english', \n",
    "                             lowercase=True, #convert everything to lower case\n",
    "                             use_idf=True,#we definitely want to use inverse document frequencies in our weighting\n",
    "                             norm=u'l2', #Correction factor that treat long & short paragraphs equally\n",
    "                             smooth_idf=True #Adds 1 to all document frequencies. Prevents divide-by-zero errors\n",
    "                            )\n",
    "feature_reduction = TruncatedSVD(120)\n",
    "classifier = svm.SVC(kernel='linear', gamma='auto')\n",
    "\n",
    "text_clf = Pipeline([('vect', vectorizer),\n",
    "                     ('svd', feature_reduction),\n",
    "                     ('clf', classifier), ])\n",
    "\n",
    "text_clf.fit(X_training, y_training)\n",
    "print('Training set score:', text_clf.score(X_training, y_training))\n",
    "predicted = text_clf.predict(X_holdout)\n",
    "print(\"Test set score: \", np.mean(predicted == y_holdout))"
   ]
  },
  {
   "cell_type": "code",
   "execution_count": 56,
   "metadata": {},
   "outputs": [],
   "source": [
    "limited = ['lincoln','grant','mckinley','wilson','roosevelt','eisenhower','nixon','reagan','clinton','Bush']\n",
    "limited_presidents = df_paragraphs[df_paragraphs.president.isin(limited)]\n",
    "\n",
    "y = limited_presidents['president']\n",
    "X = limited_presidents['paragraphs']\n",
    "\n",
    "X_train, X_test, y_train, y_test = train_test_split(X, \n",
    "                                                    y,\n",
    "                                                    test_size=0.4,\n",
    "                                                    random_state=0)"
   ]
  },
  {
   "cell_type": "code",
   "execution_count": 57,
   "metadata": {},
   "outputs": [
    {
     "name": "stdout",
     "output_type": "stream",
     "text": [
      "Training set score: 0.5298507462686567\n",
      "Test set score:  0.2737430167597765\n"
     ]
    }
   ],
   "source": [
    "text_clf.fit(X_training, y_training)\n",
    "print('Training set score:', text_clf.score(X_training, y_training))\n",
    "predicted = text_clf.predict(X_holdout)\n",
    "print(\"Test set score: \", np.mean(predicted == y_holdout))"
   ]
  },
  {
   "cell_type": "markdown",
   "metadata": {},
   "source": [
    "## Section 6: Final Test on Extra Data\n",
    "\n",
    "Initially, the model of greater promise seemed to be the TF-IDF Vectorizer. When trained on the training set, it was able to score the training data with greater accuracy as well as the testing data of the training set. In contrast, the BoW model was not nearly as accurate on the training data and was a slightly worse performer on the testing data of the training set. However, when the holdout group was introduced, the BoW model performed at at 29% while the TF-IDF model was almost at 27%.\n",
    "\n",
    "To provide one last comparison of models, we still have two speeches from Roosevelt. Therefore, these speeches will be loaded according to both methods to see how accurate the models are when given speeches that are unseen and only from one president."
   ]
  },
  {
   "cell_type": "markdown",
   "metadata": {},
   "source": [
    "### Subsection 6A: Bag-of-Words Model"
   ]
  },
  {
   "cell_type": "code",
   "execution_count": 58,
   "metadata": {},
   "outputs": [
    {
     "name": "stdout",
     "output_type": "stream",
     "text": [
      "For this final testing, the remaining 2 addresses by Roosevelt will be used.\n"
     ]
    }
   ],
   "source": [
    "roosevelt_speeches = ['1941-Roosevelt.txt','1945-Roosevelt.txt']\n",
    "# Creating a list of relevant, unique names to identify each address specifically\n",
    "roosevelt_speech_names = []\n",
    "for name in roosevelt_speeches:\n",
    "    roosevelt_speech_names.append(re.sub(\"[^a-zA-Z]\",'',name[5:-4]).lower() +'_'+ re.sub(\"\",'',name[:4]))\n",
    "\n",
    "# Loading all addresses within list 'speeches' and titling each according to list 'speech_names'\n",
    "roosevelt_addresses={}\n",
    "for speech_name, speech in zip(roosevelt_speech_names, roosevelt_speeches):\n",
    "    roosevelt_addresses[speech_name] = inaugural.raw(speech)\n",
    "\n",
    "print('For this final testing, the remaining {} addresses by Roosevelt will be used.'.format(len(roosevelt_addresses)))"
   ]
  },
  {
   "cell_type": "code",
   "execution_count": 59,
   "metadata": {},
   "outputs": [
    {
     "data": {
      "text/html": [
       "<div>\n",
       "<style scoped>\n",
       "    .dataframe tbody tr th:only-of-type {\n",
       "        vertical-align: middle;\n",
       "    }\n",
       "\n",
       "    .dataframe tbody tr th {\n",
       "        vertical-align: top;\n",
       "    }\n",
       "\n",
       "    .dataframe thead th {\n",
       "        text-align: right;\n",
       "    }\n",
       "</style>\n",
       "<table border=\"1\" class=\"dataframe\">\n",
       "  <thead>\n",
       "    <tr style=\"text-align: right;\">\n",
       "      <th></th>\n",
       "      <th>address</th>\n",
       "      <th>target</th>\n",
       "    </tr>\n",
       "  </thead>\n",
       "  <tbody>\n",
       "    <tr>\n",
       "      <th>roosevelt_1941</th>\n",
       "      <td>On each national day of inauguration since 178...</td>\n",
       "      <td>roosevelt</td>\n",
       "    </tr>\n",
       "    <tr>\n",
       "      <th>roosevelt_1945</th>\n",
       "      <td>Chief Justice, Mr. Vice President, my friends,...</td>\n",
       "      <td>roosevelt</td>\n",
       "    </tr>\n",
       "  </tbody>\n",
       "</table>\n",
       "</div>"
      ],
      "text/plain": [
       "                                                          address     target\n",
       "roosevelt_1941  On each national day of inauguration since 178...  roosevelt\n",
       "roosevelt_1945  Chief Justice, Mr. Vice President, my friends,...  roosevelt"
      ]
     },
     "execution_count": 59,
     "metadata": {},
     "output_type": "execute_result"
    }
   ],
   "source": [
    "# Loading dictionary into DataFrame for text-cleaning\n",
    "df_roosevelt = pd.DataFrame.from_dict(roosevelt_addresses, orient='index', columns=['address'])\n",
    "\n",
    "# Creating list and adding to DataFrame for target variable of the Roosevelt's name\n",
    "df_roosevelt['target'] = 'roosevelt'\n",
    "\n",
    "df_roosevelt.head()"
   ]
  },
  {
   "cell_type": "code",
   "execution_count": 60,
   "metadata": {},
   "outputs": [
    {
     "data": {
      "text/html": [
       "<div>\n",
       "<style scoped>\n",
       "    .dataframe tbody tr th:only-of-type {\n",
       "        vertical-align: middle;\n",
       "    }\n",
       "\n",
       "    .dataframe tbody tr th {\n",
       "        vertical-align: top;\n",
       "    }\n",
       "\n",
       "    .dataframe thead th {\n",
       "        text-align: right;\n",
       "    }\n",
       "</style>\n",
       "<table border=\"1\" class=\"dataframe\">\n",
       "  <thead>\n",
       "    <tr style=\"text-align: right;\">\n",
       "      <th></th>\n",
       "      <th>address</th>\n",
       "      <th>target</th>\n",
       "    </tr>\n",
       "  </thead>\n",
       "  <tbody>\n",
       "    <tr>\n",
       "      <th>roosevelt_1941</th>\n",
       "      <td>On each national day of inauguration since 178...</td>\n",
       "      <td>roosevelt</td>\n",
       "    </tr>\n",
       "    <tr>\n",
       "      <th>roosevelt_1945</th>\n",
       "      <td>Chief Justice, Mr. Vice President, my friends,...</td>\n",
       "      <td>roosevelt</td>\n",
       "    </tr>\n",
       "  </tbody>\n",
       "</table>\n",
       "</div>"
      ],
      "text/plain": [
       "                                                          address     target\n",
       "roosevelt_1941  On each national day of inauguration since 178...  roosevelt\n",
       "roosevelt_1945  Chief Justice, Mr. Vice President, my friends,...  roosevelt"
      ]
     },
     "execution_count": 60,
     "metadata": {},
     "output_type": "execute_result"
    }
   ],
   "source": [
    "# Creating list of cleaned addresses according to function 'text_cleaner'\n",
    "cleaned = [text_cleaner(address) for address in df_roosevelt.address]\n",
    "\n",
    "# Replacing old text data of addresses with cleaned text data\n",
    "df_roosevelt['address'] = cleaned\n",
    "df_roosevelt.head()"
   ]
  },
  {
   "cell_type": "code",
   "execution_count": 61,
   "metadata": {},
   "outputs": [
    {
     "data": {
      "text/html": [
       "<div>\n",
       "<style scoped>\n",
       "    .dataframe tbody tr th:only-of-type {\n",
       "        vertical-align: middle;\n",
       "    }\n",
       "\n",
       "    .dataframe tbody tr th {\n",
       "        vertical-align: top;\n",
       "    }\n",
       "\n",
       "    .dataframe thead th {\n",
       "        text-align: right;\n",
       "    }\n",
       "</style>\n",
       "<table border=\"1\" class=\"dataframe\">\n",
       "  <thead>\n",
       "    <tr style=\"text-align: right;\">\n",
       "      <th></th>\n",
       "      <th>address</th>\n",
       "      <th>target</th>\n",
       "    </tr>\n",
       "  </thead>\n",
       "  <tbody>\n",
       "    <tr>\n",
       "      <th>roosevelt_1941</th>\n",
       "      <td>(On, each, national, day, of, inauguration, si...</td>\n",
       "      <td>roosevelt</td>\n",
       "    </tr>\n",
       "    <tr>\n",
       "      <th>roosevelt_1945</th>\n",
       "      <td>(Chief, Justice, ,, Mr., Vice, President, ,, m...</td>\n",
       "      <td>roosevelt</td>\n",
       "    </tr>\n",
       "  </tbody>\n",
       "</table>\n",
       "</div>"
      ],
      "text/plain": [
       "                                                          address     target\n",
       "roosevelt_1941  (On, each, national, day, of, inauguration, si...  roosevelt\n",
       "roosevelt_1945  (Chief, Justice, ,, Mr., Vice, President, ,, m...  roosevelt"
      ]
     },
     "execution_count": 61,
     "metadata": {},
     "output_type": "execute_result"
    }
   ],
   "source": [
    "# Creating list for parsed addresses\n",
    "parsed = [nlp(address) for address in df_roosevelt.address]\n",
    "\n",
    "# Replacing cleaned text with parsed text\n",
    "df_roosevelt['address'] = parsed\n",
    "df_roosevelt.head()"
   ]
  },
  {
   "cell_type": "code",
   "execution_count": 62,
   "metadata": {},
   "outputs": [
    {
     "data": {
      "text/html": [
       "<div>\n",
       "<style scoped>\n",
       "    .dataframe tbody tr th:only-of-type {\n",
       "        vertical-align: middle;\n",
       "    }\n",
       "\n",
       "    .dataframe tbody tr th {\n",
       "        vertical-align: top;\n",
       "    }\n",
       "\n",
       "    .dataframe thead th {\n",
       "        text-align: right;\n",
       "    }\n",
       "</style>\n",
       "<table border=\"1\" class=\"dataframe\">\n",
       "  <thead>\n",
       "    <tr style=\"text-align: right;\">\n",
       "      <th></th>\n",
       "      <th>sentences</th>\n",
       "      <th>president</th>\n",
       "    </tr>\n",
       "  </thead>\n",
       "  <tbody>\n",
       "    <tr>\n",
       "      <th>96</th>\n",
       "      <td>(We, can, gain, it, only, if, we, proceed, wit...</td>\n",
       "      <td>roosevelt</td>\n",
       "    </tr>\n",
       "    <tr>\n",
       "      <th>97</th>\n",
       "      <td>(The, Almighty, God, has, blessed, our, land, ...</td>\n",
       "      <td>roosevelt</td>\n",
       "    </tr>\n",
       "    <tr>\n",
       "      <th>98</th>\n",
       "      <td>(He, has, given, our, people, stout, hearts, a...</td>\n",
       "      <td>roosevelt</td>\n",
       "    </tr>\n",
       "    <tr>\n",
       "      <th>99</th>\n",
       "      <td>(He, has, given, to, our, country, a, faith, w...</td>\n",
       "      <td>roosevelt</td>\n",
       "    </tr>\n",
       "    <tr>\n",
       "      <th>100</th>\n",
       "      <td>(So, we, pray, to, Him, now, for, the, vision,...</td>\n",
       "      <td>roosevelt</td>\n",
       "    </tr>\n",
       "  </tbody>\n",
       "</table>\n",
       "</div>"
      ],
      "text/plain": [
       "                                             sentences  president\n",
       "96   (We, can, gain, it, only, if, we, proceed, wit...  roosevelt\n",
       "97   (The, Almighty, God, has, blessed, our, land, ...  roosevelt\n",
       "98   (He, has, given, our, people, stout, hearts, a...  roosevelt\n",
       "99   (He, has, given, to, our, country, a, faith, w...  roosevelt\n",
       "100  (So, we, pray, to, Him, now, for, the, vision,...  roosevelt"
      ]
     },
     "execution_count": 62,
     "metadata": {},
     "output_type": "execute_result"
    }
   ],
   "source": [
    "# Creating for loop create DataFrame of address sentences with respective target president from address paragraphs\n",
    "sentences_roosevelt = pd.DataFrame()\n",
    "for x in range(0, len(df_roosevelt.address)):\n",
    "    if x == 0:\n",
    "        sentences_roosevelt['sentences'] = [sent for sent in df_roosevelt.address[x].sents]\n",
    "        sentences_roosevelt['president'] = df_roosevelt.target[x]\n",
    "    else:\n",
    "        temporary = pd.DataFrame()\n",
    "        temporary['sentences'] = [sent for sent in df_roosevelt.address[x].sents]\n",
    "        temporary['president'] = df_roosevelt.target[x]\n",
    "        sentences_roosevelt = sentences_roosevelt.append(temporary)\n",
    "        sentences_roosevelt = sentences_roosevelt.reset_index(drop=True)\n",
    "\n",
    "sentences_roosevelt.tail()"
   ]
  },
  {
   "cell_type": "code",
   "execution_count": 63,
   "metadata": {},
   "outputs": [
    {
     "name": "stdout",
     "output_type": "stream",
     "text": [
      "Processing row 0\n",
      "Processing row 100\n"
     ]
    }
   ],
   "source": [
    "# Creating feature word counts on Roosevelt data\n",
    "roosevelt_word_counts = bow_features(sentences_roosevelt, common_words)"
   ]
  },
  {
   "cell_type": "code",
   "execution_count": 64,
   "metadata": {},
   "outputs": [],
   "source": [
    "# Creating train-test split of original training data\n",
    "y_train = word_counts['text_source']\n",
    "X_train = np.array(word_counts.drop(['text_sentence','text_source'], 1))\n",
    "y_test = roosevelt_word_counts['text_source']\n",
    "X_test = np.array(roosevelt_word_counts.drop(['text_sentence','text_source'], 1))"
   ]
  },
  {
   "cell_type": "code",
   "execution_count": 65,
   "metadata": {},
   "outputs": [
    {
     "name": "stderr",
     "output_type": "stream",
     "text": [
      "C:\\ProgramData\\Anaconda3\\lib\\site-packages\\sklearn\\linear_model\\logistic.py:433: FutureWarning: Default solver will be changed to 'lbfgs' in 0.22. Specify a solver to silence this warning.\n",
      "  FutureWarning)\n",
      "C:\\ProgramData\\Anaconda3\\lib\\site-packages\\sklearn\\linear_model\\logistic.py:460: FutureWarning: Default multi_class will be changed to 'auto' in 0.22. Specify the multi_class option to silence this warning.\n",
      "  \"this warning.\", FutureWarning)\n"
     ]
    },
    {
     "name": "stdout",
     "output_type": "stream",
     "text": [
      "Training set score: 0.7498591549295774\n",
      "\n",
      "Test set score: 0.1485148514851485\n"
     ]
    }
   ],
   "source": [
    "# Assessing potential of Logistic Regression\n",
    "logistic = LogisticRegression()\n",
    "logistic.fit(X_train, y_train)\n",
    "print('Training set score:', logistic.score(X_train, y_train))\n",
    "print('\\nTest set score:', logistic.score(X_test, y_test))"
   ]
  },
  {
   "cell_type": "markdown",
   "metadata": {},
   "source": [
    "### Subsection 6B: TF-IDF Model"
   ]
  },
  {
   "cell_type": "code",
   "execution_count": 66,
   "metadata": {},
   "outputs": [
    {
     "data": {
      "text/html": [
       "<div>\n",
       "<style scoped>\n",
       "    .dataframe tbody tr th:only-of-type {\n",
       "        vertical-align: middle;\n",
       "    }\n",
       "\n",
       "    .dataframe tbody tr th {\n",
       "        vertical-align: top;\n",
       "    }\n",
       "\n",
       "    .dataframe thead th {\n",
       "        text-align: right;\n",
       "    }\n",
       "</style>\n",
       "<table border=\"1\" class=\"dataframe\">\n",
       "  <thead>\n",
       "    <tr style=\"text-align: right;\">\n",
       "      <th></th>\n",
       "      <th>paragraphs</th>\n",
       "      <th>president</th>\n",
       "    </tr>\n",
       "  </thead>\n",
       "  <tbody>\n",
       "    <tr>\n",
       "      <th>0</th>\n",
       "      <td>[[On, each, national, day, of, inauguration, s...</td>\n",
       "      <td>roosevelt</td>\n",
       "    </tr>\n",
       "    <tr>\n",
       "      <th>1</th>\n",
       "      <td>[[In, Washington, ', s, day, the, task, of, th...</td>\n",
       "      <td>roosevelt</td>\n",
       "    </tr>\n",
       "    <tr>\n",
       "      <th>2</th>\n",
       "      <td>[[In, Lincoln, ', s, day, the, task, of, the, ...</td>\n",
       "      <td>roosevelt</td>\n",
       "    </tr>\n",
       "    <tr>\n",
       "      <th>3</th>\n",
       "      <td>[[In, this, day, the, task, of, the, people, i...</td>\n",
       "      <td>roosevelt</td>\n",
       "    </tr>\n",
       "    <tr>\n",
       "      <th>4</th>\n",
       "      <td>[[To, us, there, has, come, a, time, ,, in, th...</td>\n",
       "      <td>roosevelt</td>\n",
       "    </tr>\n",
       "  </tbody>\n",
       "</table>\n",
       "</div>"
      ],
      "text/plain": [
       "                                          paragraphs  president\n",
       "0  [[On, each, national, day, of, inauguration, s...  roosevelt\n",
       "1  [[In, Washington, ', s, day, the, task, of, th...  roosevelt\n",
       "2  [[In, Lincoln, ', s, day, the, task, of, the, ...  roosevelt\n",
       "3  [[In, this, day, the, task, of, the, people, i...  roosevelt\n",
       "4  [[To, us, there, has, come, a, time, ,, in, th...  roosevelt"
      ]
     },
     "execution_count": 66,
     "metadata": {},
     "output_type": "execute_result"
    }
   ],
   "source": [
    "# Loading all addresses in paragraph form within list 'speeches' and titling each according to appropriate president\n",
    "roosevelt_address_paragraphs=[]\n",
    "for speech in roosevelt_speeches:\n",
    "    for paragraph in inaugural.paras(speech):\n",
    "        paragraph_assigned = [paragraph, 'roosevelt']\n",
    "        roosevelt_address_paragraphs.append(paragraph_assigned)\n",
    "\n",
    "# Loading into DataFrame for easy manipulation\n",
    "roosevelt_df_paragraphs = pd.DataFrame(roosevelt_address_paragraphs, columns=['paragraphs','president'])\n",
    "\n",
    "roosevelt_df_paragraphs.head()"
   ]
  },
  {
   "cell_type": "code",
   "execution_count": 67,
   "metadata": {},
   "outputs": [
    {
     "data": {
      "text/html": [
       "<div>\n",
       "<style scoped>\n",
       "    .dataframe tbody tr th:only-of-type {\n",
       "        vertical-align: middle;\n",
       "    }\n",
       "\n",
       "    .dataframe tbody tr th {\n",
       "        vertical-align: top;\n",
       "    }\n",
       "\n",
       "    .dataframe thead th {\n",
       "        text-align: right;\n",
       "    }\n",
       "</style>\n",
       "<table border=\"1\" class=\"dataframe\">\n",
       "  <thead>\n",
       "    <tr style=\"text-align: right;\">\n",
       "      <th></th>\n",
       "      <th>paragraphs</th>\n",
       "      <th>president</th>\n",
       "    </tr>\n",
       "  </thead>\n",
       "  <tbody>\n",
       "    <tr>\n",
       "      <th>0</th>\n",
       "      <td>On each national day of inauguration since 178...</td>\n",
       "      <td>roosevelt</td>\n",
       "    </tr>\n",
       "    <tr>\n",
       "      <th>1</th>\n",
       "      <td>In Washington ' s day the task of the people w...</td>\n",
       "      <td>roosevelt</td>\n",
       "    </tr>\n",
       "    <tr>\n",
       "      <th>2</th>\n",
       "      <td>In Lincoln ' s day the task of the people was ...</td>\n",
       "      <td>roosevelt</td>\n",
       "    </tr>\n",
       "    <tr>\n",
       "      <th>3</th>\n",
       "      <td>In this day the task of the people is to save ...</td>\n",
       "      <td>roosevelt</td>\n",
       "    </tr>\n",
       "    <tr>\n",
       "      <th>4</th>\n",
       "      <td>To us there has come a time , in the midst of ...</td>\n",
       "      <td>roosevelt</td>\n",
       "    </tr>\n",
       "  </tbody>\n",
       "</table>\n",
       "</div>"
      ],
      "text/plain": [
       "                                          paragraphs  president\n",
       "0  On each national day of inauguration since 178...  roosevelt\n",
       "1  In Washington ' s day the task of the people w...  roosevelt\n",
       "2  In Lincoln ' s day the task of the people was ...  roosevelt\n",
       "3  In this day the task of the people is to save ...  roosevelt\n",
       "4  To us there has come a time , in the midst of ...  roosevelt"
      ]
     },
     "execution_count": 67,
     "metadata": {},
     "output_type": "execute_result"
    }
   ],
   "source": [
    "roosevelt_address_paras = []\n",
    "paragraph_split(roosevelt_df_paragraphs.paragraphs, roosevelt_address_paras)\n",
    "\n",
    "# Replacing raw paragraph data with cleaned data\n",
    "roosevelt_df_paragraphs['paragraphs'] = roosevelt_address_paras\n",
    "roosevelt_df_paragraphs.head()"
   ]
  },
  {
   "cell_type": "code",
   "execution_count": 68,
   "metadata": {},
   "outputs": [],
   "source": [
    "X_train = df_paragraphs['paragraphs']\n",
    "y_train = df_paragraphs['president']\n",
    "X_test = roosevelt_df_paragraphs['paragraphs']\n",
    "y_test = roosevelt_df_paragraphs['president']"
   ]
  },
  {
   "cell_type": "code",
   "execution_count": 69,
   "metadata": {},
   "outputs": [
    {
     "name": "stderr",
     "output_type": "stream",
     "text": [
      "C:\\ProgramData\\Anaconda3\\lib\\site-packages\\sklearn\\linear_model\\logistic.py:433: FutureWarning: Default solver will be changed to 'lbfgs' in 0.22. Specify a solver to silence this warning.\n",
      "  FutureWarning)\n",
      "C:\\ProgramData\\Anaconda3\\lib\\site-packages\\sklearn\\linear_model\\logistic.py:460: FutureWarning: Default multi_class will be changed to 'auto' in 0.22. Specify the multi_class option to silence this warning.\n",
      "  \"this warning.\", FutureWarning)\n"
     ]
    },
    {
     "name": "stdout",
     "output_type": "stream",
     "text": [
      "Accuracy of predicted:  0.16666666666666666\n"
     ]
    }
   ],
   "source": [
    "vectorizer = TfidfVectorizer(max_df=0.90, # drop words in more than half the paragraphs\n",
    "                             min_df=3, # only use words that appear at least twice\n",
    "                             stop_words='english', \n",
    "                             lowercase=True, #convert everything to lower case\n",
    "                             use_idf=True,#we definitely want to use inverse document frequencies in our weighting\n",
    "                             norm=u'l2', #Correction factor that treat long & short paragraphs equally\n",
    "                             smooth_idf=True #Adds 1 to all document frequencies. Prevents divide-by-zero errors\n",
    "                            )\n",
    "feature_reduction = TruncatedSVD(350)\n",
    "classifier = LogisticRegression()\n",
    "\n",
    "text_clf = Pipeline([('vect', vectorizer),\n",
    "                     #('svd', feature_reduction),\n",
    "                     ('clf', classifier), ])\n",
    "\n",
    "text_clf.fit(X_train, y_train)\n",
    "predicted = text_clf.predict(X_test)\n",
    "print(\"Accuracy of predicted: \", np.mean(predicted == y_test))"
   ]
  },
  {
   "cell_type": "markdown",
   "metadata": {},
   "source": [
    "## Section 7: Conclusion"
   ]
  },
  {
   "cell_type": "markdown",
   "metadata": {},
   "source": [
    "The task of this project was, admittedly, a difficult one for various reasons, chief among them being the similarity of each of the samples (all texts were shorter inaugural addresses delivered by United States Presidents). There didn't seem to be very many distinguishing factors between each of the presidents.\n",
    "\n",
    "Indeed, this similarity is noticeable in the unsupervised clustering. While some presidents stand out more than others (like Eisenhower and Wilson as well as McKinley and Monroe) in this method, the majority of presidents seem to blend in with the others without distinction.\n",
    "\n",
    "Moving forward into the modeling, the initial accuracy of our tests were incredibly poor ranging from 11%-35% with the highest score coming from the Logistic Regression used as a Classifier. While both models covering Bag-of-Words and TF-IDF Vectorizer performed slightly better than a random chance model (which would perform around 6.7% given the fact that we were classifying 15 presidents). Then, as to be expected, when we reduced our potential target variables to the most recent 10 presidents (who also happened to have larger data samples by which we could create and test our models), our score increased - but only slightly.\n",
    "\n",
    "Finally, under Subsection 5A where we implemented our holdout sample into the model, we saw a drastic improvement and consistency in score:\n",
    "- Training set score: 0.7675718849840255\n",
    "- Test set score: 0.7955271565495208\n",
    "\n",
    "The reason for this irregularly high score could be attributed to several things, but I believe it to be the increase of data input used to tune the model. When creating the model in this subsection, the model was retuned to the entirety of the training data (not just the training set of the training data) and then tested on the entirety of the holdout. However, after implementing an additional test of Roosevelt's two remaining speeches, the model performed as poorly as the initial models. Therefore, with the progress made so far, we can only remain cautiously optimistic about creating a model that consistently provides high accuracy."
   ]
  }
 ],
 "metadata": {
  "kernelspec": {
   "display_name": "Python 3",
   "language": "python",
   "name": "python3"
  },
  "language_info": {
   "codemirror_mode": {
    "name": "ipython",
    "version": 3
   },
   "file_extension": ".py",
   "mimetype": "text/x-python",
   "name": "python",
   "nbconvert_exporter": "python",
   "pygments_lexer": "ipython3",
   "version": "3.7.3"
  }
 },
 "nbformat": 4,
 "nbformat_minor": 2
}
